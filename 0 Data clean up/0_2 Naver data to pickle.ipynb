{
 "cells": [
  {
   "cell_type": "code",
   "execution_count": 1,
   "metadata": {
    "collapsed": true
   },
   "outputs": [],
   "source": [
    "import pickle"
   ]
  },
  {
   "cell_type": "code",
   "execution_count": 2,
   "metadata": {
    "collapsed": true
   },
   "outputs": [],
   "source": [
    "naver_q=pickle.load(open('data/naver_q.pkl', 'rb'))\n",
    "naver_r=pickle.load(open('data/naver_r.pkl', 'rb'))"
   ]
  },
  {
   "cell_type": "markdown",
   "metadata": {},
   "source": [
    "## Comments on loaded pickle files:\n",
    "    - Since I am not going to remine the naver Q and A set again, I will not reporduce the data mining and clean up process. Most script resembles the following Lang-8 data clean up section"
   ]
  },
  {
   "cell_type": "code",
   "execution_count": 15,
   "metadata": {
    "collapsed": false
   },
   "outputs": [],
   "source": [
    "import pandas as pd\n",
    "import enchant\n",
    "from guess_language import guess_language"
   ]
  },
  {
   "cell_type": "code",
   "execution_count": 4,
   "metadata": {
    "collapsed": false
   },
   "outputs": [],
   "source": [
    "naver=naver_q+naver_r"
   ]
  },
  {
   "cell_type": "markdown",
   "metadata": {},
   "source": [
    "### pd_frame_maker: for a given list of processed sentences, apply label 0 for English 1 for Korean and clean up any one word sentenced returns a pandas dataframe"
   ]
  },
  {
   "cell_type": "code",
   "execution_count": 16,
   "metadata": {
    "collapsed": true
   },
   "outputs": [],
   "source": [
    "def English_only_clean(somelist):\n",
    "    somelist = list(filter(None, somelist))\n",
    "    eng_only_list=[]\n",
    "    for item in somelist:\n",
    "        score=0\n",
    "        sentence=''\n",
    "        for word in item:\n",
    "            sentence=sentence+' '+word\n",
    "            if guess_language(word)=='en':\n",
    "                score=score+1        \n",
    "        if score/len(item)>0.6:\n",
    "            eng_only_list.append(sentence)\n",
    "    return eng_only_list"
   ]
  },
  {
   "cell_type": "code",
   "execution_count": 78,
   "metadata": {
    "collapsed": false
   },
   "outputs": [],
   "source": [
    "def pd_frame_maker(sentlist, label):\n",
    "    df=pd.DataFrame({'sent': sentlist, 'label': label})\n",
    "    df['sentence']=df['sent'].apply(lambda x: \" \".join(x))\n",
    "    df['length']=df['sent'].apply(lambda x: len(x))\n",
    "    df=df[df['length']>1]\n",
    "    df['sentence']=df['sentence'].drop_duplicates()\n",
    "    df['language']=df['sentence'].apply(lambda x: guess_language(str(x)))\n",
    "    df=df[df['language']=='en']\n",
    "    df = df.dropna()   \n",
    "    df = df.ix[:,:4]\n",
    "    return df    "
   ]
  },
  {
   "cell_type": "code",
   "execution_count": 33,
   "metadata": {
    "collapsed": true
   },
   "outputs": [],
   "source": [
    "Eng_naver=English_only_clean(naver)"
   ]
  },
  {
   "cell_type": "code",
   "execution_count": 74,
   "metadata": {
    "collapsed": false,
    "scrolled": true
   },
   "outputs": [],
   "source": [
    "naverdf=pd_frame_maker(naver,1)"
   ]
  },
  {
   "cell_type": "code",
   "execution_count": 77,
   "metadata": {
    "collapsed": false
   },
   "outputs": [
    {
     "data": {
      "text/html": [
       "<div>\n",
       "<table border=\"1\" class=\"dataframe\">\n",
       "  <thead>\n",
       "    <tr style=\"text-align: right;\">\n",
       "      <th></th>\n",
       "      <th>label</th>\n",
       "      <th>length</th>\n",
       "    </tr>\n",
       "  </thead>\n",
       "  <tbody>\n",
       "    <tr>\n",
       "      <th>count</th>\n",
       "      <td>14480.0</td>\n",
       "      <td>14480.000000</td>\n",
       "    </tr>\n",
       "    <tr>\n",
       "      <th>mean</th>\n",
       "      <td>1.0</td>\n",
       "      <td>12.911050</td>\n",
       "    </tr>\n",
       "    <tr>\n",
       "      <th>std</th>\n",
       "      <td>0.0</td>\n",
       "      <td>9.363903</td>\n",
       "    </tr>\n",
       "    <tr>\n",
       "      <th>min</th>\n",
       "      <td>1.0</td>\n",
       "      <td>2.000000</td>\n",
       "    </tr>\n",
       "    <tr>\n",
       "      <th>25%</th>\n",
       "      <td>1.0</td>\n",
       "      <td>7.000000</td>\n",
       "    </tr>\n",
       "    <tr>\n",
       "      <th>50%</th>\n",
       "      <td>1.0</td>\n",
       "      <td>11.000000</td>\n",
       "    </tr>\n",
       "    <tr>\n",
       "      <th>75%</th>\n",
       "      <td>1.0</td>\n",
       "      <td>16.000000</td>\n",
       "    </tr>\n",
       "    <tr>\n",
       "      <th>max</th>\n",
       "      <td>1.0</td>\n",
       "      <td>398.000000</td>\n",
       "    </tr>\n",
       "  </tbody>\n",
       "</table>\n",
       "</div>"
      ],
      "text/plain": [
       "         label        length\n",
       "count  14480.0  14480.000000\n",
       "mean       1.0     12.911050\n",
       "std        0.0      9.363903\n",
       "min        1.0      2.000000\n",
       "25%        1.0      7.000000\n",
       "50%        1.0     11.000000\n",
       "75%        1.0     16.000000\n",
       "max        1.0    398.000000"
      ]
     },
     "execution_count": 77,
     "metadata": {},
     "output_type": "execute_result"
    }
   ],
   "source": [
    "naverdf.describe()"
   ]
  },
  {
   "cell_type": "code",
   "execution_count": 76,
   "metadata": {
    "collapsed": false
   },
   "outputs": [],
   "source": [
    "naverdf.to_pickle('data/naver_df.pkl')"
   ]
  },
  {
   "cell_type": "code",
   "execution_count": null,
   "metadata": {
    "collapsed": true
   },
   "outputs": [],
   "source": []
  }
 ],
 "metadata": {
  "anaconda-cloud": {},
  "kernelspec": {
   "display_name": "Python [conda env:insight]",
   "language": "python",
   "name": "conda-env-insight-py"
  },
  "language_info": {
   "codemirror_mode": {
    "name": "ipython",
    "version": 3
   },
   "file_extension": ".py",
   "mimetype": "text/x-python",
   "name": "python",
   "nbconvert_exporter": "python",
   "pygments_lexer": "ipython3",
   "version": "3.5.2"
  }
 },
 "nbformat": 4,
 "nbformat_minor": 1
}
