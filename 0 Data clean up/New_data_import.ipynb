{
 "cells": [
  {
   "cell_type": "code",
   "execution_count": 1,
   "metadata": {
    "collapsed": true
   },
   "outputs": [],
   "source": [
    "import os\n",
    "from bs4 import BeautifulSoup\n",
    "import requests\n",
    "import urllib\n",
    "import re\n",
    "import csv\n",
    "import pandas as pd\n",
    "import nltk\n",
    "import string\n",
    "import numpy\n",
    "import matplotlib.pyplot as plt\n",
    "%matplotlib inline\n",
    "from nltk import sent_tokenize, word_tokenize\n",
    "import pickle\n",
    "import enchant\n",
    "from guess_language import guess_language"
   ]
  },
  {
   "cell_type": "code",
   "execution_count": 2,
   "metadata": {
    "collapsed": true
   },
   "outputs": [],
   "source": [
    "path='data/pickles/'"
   ]
  },
  {
   "cell_type": "code",
   "execution_count": 3,
   "metadata": {
    "collapsed": true
   },
   "outputs": [],
   "source": [
    "file=os.listdir('data/pickles/')"
   ]
  },
  {
   "cell_type": "code",
   "execution_count": 4,
   "metadata": {
    "collapsed": false
   },
   "outputs": [
    {
     "data": {
      "text/plain": [
       "['lang8eng.pkl',\n",
       " 'total_set_0201.pkl',\n",
       " 'lang8kor.pkl',\n",
       " 'total_eng_set_0201.pkl',\n",
       " 'naver_q.pkl',\n",
       " 'total_kor_set_0202.pkl',\n",
       " 'model_tot',\n",
       " 'model_eng',\n",
       " 'lang8_kor_1.pkl',\n",
       " 'eng_large_pd.pkl',\n",
       " 'model_kor',\n",
       " 'train_set_0201.pkl',\n",
       " 'eng_large_new_pd',\n",
       " 'kor_large_pd.pkl',\n",
       " 'train_set_0202.pkl',\n",
       " 'nltk_eng.pkl',\n",
       " 'uvecmodel',\n",
       " 'univ_kor.pkl',\n",
       " 'total_set_0202.pkl',\n",
       " 'test_set_0202.pkl',\n",
       " 'lang8_kor_new.pkl',\n",
       " 'total_set.pkl',\n",
       " 'eng_large_new_pd.pkl',\n",
       " 'naver_pd.pkl',\n",
       " 'total_kor_set_0201.pkl',\n",
       " 'total_eng_set_0202.pkl',\n",
       " 'test_set_0201.pkl',\n",
       " 'cv_set_0202.pkl',\n",
       " 'naver_r.pkl',\n",
       " 'cv_set_0201.pkl',\n",
       " 'lang8_eng_3']"
      ]
     },
     "execution_count": 4,
     "metadata": {},
     "output_type": "execute_result"
    }
   ],
   "source": [
    "file"
   ]
  },
  {
   "cell_type": "code",
   "execution_count": 91,
   "metadata": {
    "collapsed": true
   },
   "outputs": [],
   "source": [
    "eng_list=pickle.load(open('wordvec/nltk_eng.pkl', 'rb'))\n",
    "\n",
    "kor_list=pickle.load(open('wordvec/univ_kor.pkl', 'rb'))"
   ]
  },
  {
   "cell_type": "code",
   "execution_count": 92,
   "metadata": {
    "collapsed": false
   },
   "outputs": [],
   "source": [
    "naver_q=pickle.load(open(path+'naver_q.pkl', 'rb'))\n",
    "naver_r=pickle.load(open(path+'naver_r.pkl', 'rb'))\n",
    "kor_lang8=pickle.load(open(path+'lang8_kor_1.pkl','rb'))\n",
    "eng_lang8=pickle.load(open(path+'lang8_eng_3','rb'))"
   ]
  },
  {
   "cell_type": "code",
   "execution_count": 93,
   "metadata": {
    "collapsed": false
   },
   "outputs": [],
   "source": [
    "Naver=naver_q+naver_r"
   ]
  },
  {
   "cell_type": "code",
   "execution_count": 94,
   "metadata": {
    "collapsed": false
   },
   "outputs": [
    {
     "data": {
      "text/plain": [
       "32153"
      ]
     },
     "execution_count": 94,
     "metadata": {},
     "output_type": "execute_result"
    }
   ],
   "source": [
    "len(Naver)"
   ]
  },
  {
   "cell_type": "code",
   "execution_count": 95,
   "metadata": {
    "collapsed": false
   },
   "outputs": [
    {
     "data": {
      "text/plain": [
       "238644"
      ]
     },
     "execution_count": 95,
     "metadata": {},
     "output_type": "execute_result"
    }
   ],
   "source": [
    "len(kor_list)"
   ]
  },
  {
   "cell_type": "markdown",
   "metadata": {},
   "source": [
    "# Trying to clean up the duplicates and the none english sentences"
   ]
  },
  {
   "cell_type": "code",
   "execution_count": 96,
   "metadata": {
    "collapsed": true
   },
   "outputs": [],
   "source": [
    "kor_lang8 = list(filter(None, kor_lang8))\n",
    "eng_lang8 = list(filter(None, eng_lang8))"
   ]
  },
  {
   "cell_type": "code",
   "execution_count": 97,
   "metadata": {
    "collapsed": true
   },
   "outputs": [],
   "source": [
    "def Lang8_clean(somelist):\n",
    "    somelist = list(filter(None, somelist))\n",
    "    eng_only_list=[]\n",
    "    for item in somelist:\n",
    "        score=0\n",
    "        sentence=''\n",
    "        for word in item:\n",
    "            sentence=sentence+' '+word\n",
    "            if guess_language(word)=='en':\n",
    "                score=score+1        \n",
    "        if score/len(item)>0.6:\n",
    "            eng_only_list.append(sentence)\n",
    "    return eng_only_list\n",
    "    "
   ]
  },
  {
   "cell_type": "code",
   "execution_count": 98,
   "metadata": {
    "collapsed": false
   },
   "outputs": [
    {
     "name": "stdout",
     "output_type": "stream",
     "text": [
      "86261\n"
     ]
    }
   ],
   "source": [
    "print (len(eng_lang8))"
   ]
  },
  {
   "cell_type": "code",
   "execution_count": 99,
   "metadata": {
    "collapsed": false
   },
   "outputs": [
    {
     "name": "stdout",
     "output_type": "stream",
     "text": [
      "58112\n"
     ]
    }
   ],
   "source": [
    "print (len(eng_lang8_clean))"
   ]
  },
  {
   "cell_type": "code",
   "execution_count": 100,
   "metadata": {
    "collapsed": true
   },
   "outputs": [],
   "source": [
    "eng_lang8_clean=Lang8_clean(eng_lang8)"
   ]
  },
  {
   "cell_type": "code",
   "execution_count": 63,
   "metadata": {
    "collapsed": true
   },
   "outputs": [],
   "source": [
    "df_l8e = pd.DataFrame({'eng_vec' : eng_lang8_clean })"
   ]
  },
  {
   "cell_type": "code",
   "execution_count": 65,
   "metadata": {
    "collapsed": false
   },
   "outputs": [],
   "source": [
    "df_l8e=df_l8e.drop_duplicates()"
   ]
  },
  {
   "cell_type": "code",
   "execution_count": 66,
   "metadata": {
    "collapsed": false
   },
   "outputs": [
    {
     "data": {
      "text/plain": [
       "35631"
      ]
     },
     "execution_count": 66,
     "metadata": {},
     "output_type": "execute_result"
    }
   ],
   "source": [
    "len(df_l8e)"
   ]
  },
  {
   "cell_type": "code",
   "execution_count": 102,
   "metadata": {
    "collapsed": false,
    "scrolled": true
   },
   "outputs": [],
   "source": [
    "kor_list_new=[]\n",
    "for item in kor_lang8:\n",
    "    score=0\n",
    "    sentence=''\n",
    "    for word in item:\n",
    "        sentence=sentence+' '+word\n",
    "        if guess_language(word)=='en':\n",
    "            score=score+1        \n",
    "    if score/len(item)>0.6:\n",
    "        kor_list_new.append(sentence)\n",
    "#         sentence=sentence+' '+word\n",
    "#     if guess_language(sentence)!='en':\n",
    "#         if guess_language(sentence) == 'UNKNOWN':\n",
    "#             print (sentence)"
   ]
  },
  {
   "cell_type": "code",
   "execution_count": 39,
   "metadata": {
    "collapsed": false
   },
   "outputs": [],
   "source": [
    "df = pd.DataFrame({'kor_vec' : kor_list_new })"
   ]
  },
  {
   "cell_type": "code",
   "execution_count": 40,
   "metadata": {
    "collapsed": false
   },
   "outputs": [],
   "source": [
    "df=df.drop_duplicates()"
   ]
  },
  {
   "cell_type": "code",
   "execution_count": 44,
   "metadata": {
    "collapsed": true
   },
   "outputs": [],
   "source": [
    "dnaver = pd.DataFrame({'kor_vec' : Naver })"
   ]
  },
  {
   "cell_type": "code",
   "execution_count": 47,
   "metadata": {
    "collapsed": false
   },
   "outputs": [
    {
     "data": {
      "text/html": [
       "<div>\n",
       "<table border=\"1\" class=\"dataframe\">\n",
       "  <thead>\n",
       "    <tr style=\"text-align: right;\">\n",
       "      <th></th>\n",
       "      <th>kor_vec</th>\n",
       "    </tr>\n",
       "  </thead>\n",
       "  <tbody>\n",
       "    <tr>\n",
       "      <th>0</th>\n",
       "      <td>ese day i am so tired because i woke up a eve...</td>\n",
       "    </tr>\n",
       "    <tr>\n",
       "      <th>1</th>\n",
       "      <td>i have a stomachach since 2 weeks ago</td>\n",
       "    </tr>\n",
       "    <tr>\n",
       "      <th>2</th>\n",
       "      <td>i thought everything is gon na be but i very ...</td>\n",
       "    </tr>\n",
       "    <tr>\n",
       "      <th>3</th>\n",
       "      <td>doctor said you have a convulsion</td>\n",
       "    </tr>\n",
       "    <tr>\n",
       "      <th>4</th>\n",
       "      <td>you have to avoid coffee wheat flour and milk</td>\n",
       "    </tr>\n",
       "  </tbody>\n",
       "</table>\n",
       "</div>"
      ],
      "text/plain": [
       "                                             kor_vec\n",
       "0   ese day i am so tired because i woke up a eve...\n",
       "1              i have a stomachach since 2 weeks ago\n",
       "2   i thought everything is gon na be but i very ...\n",
       "3                  doctor said you have a convulsion\n",
       "4      you have to avoid coffee wheat flour and milk"
      ]
     },
     "execution_count": 47,
     "metadata": {},
     "output_type": "execute_result"
    }
   ],
   "source": [
    "dlang8=pd.DataFrame({'kor_vec' : })"
   ]
  },
  {
   "cell_type": "markdown",
   "metadata": {},
   "source": [
    "Dataframes to be made:\n",
    "\n",
    "    deng_large\n",
    "    eng_list : from original pickle data list saved as eng_list\n",
    "    (eng_list=pickle.load(open('wordvec/nltk_eng.pkl', 'rb')))\n",
    "    \n",
    "    dkor_large\n",
    "    kor_list=pickle.load(open('wordvec/univ_kor.pkl', 'rb'))\n",
    "    (kor_list : from original pickle data list saved as kor_list)\n",
    "    \n",
    "    dnaver\n",
    "    naver_list : broken down to Q&R originally saved as Naver (Only Kor sample from here)\n",
    "    \n",
    "    dlang8kor\n",
    "    Lang-8 Korean list : kor_list_new with some duplicates make sure to do drop_duplicates\n",
    "    dlang8eng\n",
    "    Lang-8 Ennglish list:  eng_lang8_clean with some duplicates\n",
    "    \n",
    "    "
   ]
  },
  {
   "cell_type": "code",
   "execution_count": 67,
   "metadata": {
    "collapsed": true
   },
   "outputs": [],
   "source": [
    "deng_large = pd.DataFrame({'sent' : eng_list, 'label': 0})\n",
    "dkor_large = pd.DataFrame({'sent' : kor_list, 'label': 1})"
   ]
  },
  {
   "cell_type": "code",
   "execution_count": 68,
   "metadata": {
    "collapsed": true
   },
   "outputs": [],
   "source": [
    "dnaver = pd.DataFrame({'sent' : Naver, 'label': 1 })"
   ]
  },
  {
   "cell_type": "code",
   "execution_count": 115,
   "metadata": {
    "collapsed": true
   },
   "outputs": [],
   "source": [
    "dlang8eng=pd.DataFrame({'sent' : eng_lang8_clean,'label':0})\n",
    "dlang8kor=pd.DataFrame({'sent' : kor_list_new, 'label':1 })"
   ]
  },
  {
   "cell_type": "code",
   "execution_count": 116,
   "metadata": {
    "collapsed": false
   },
   "outputs": [],
   "source": [
    "dlang8eng['sent']=dlang8eng['sent'].drop_duplicates()\n",
    "dlang8kor['sent']=dlang8kor['sent'].drop_duplicates()"
   ]
  },
  {
   "cell_type": "code",
   "execution_count": 120,
   "metadata": {
    "collapsed": false,
    "scrolled": true
   },
   "outputs": [
    {
     "data": {
      "text/html": [
       "<div>\n",
       "<table border=\"1\" class=\"dataframe\">\n",
       "  <thead>\n",
       "    <tr style=\"text-align: right;\">\n",
       "      <th></th>\n",
       "      <th>label</th>\n",
       "      <th>sent</th>\n",
       "    </tr>\n",
       "  </thead>\n",
       "  <tbody>\n",
       "    <tr>\n",
       "      <th>55182</th>\n",
       "      <td>0</td>\n",
       "      <td>what a sad sight</td>\n",
       "    </tr>\n",
       "    <tr>\n",
       "      <th>55183</th>\n",
       "      <td>0</td>\n",
       "      <td>i am currently listening to this talented lad...</td>\n",
       "    </tr>\n",
       "    <tr>\n",
       "      <th>55184</th>\n",
       "      <td>0</td>\n",
       "      <td>i simply love jazz</td>\n",
       "    </tr>\n",
       "    <tr>\n",
       "      <th>55185</th>\n",
       "      <td>0</td>\n",
       "      <td>do you like it too</td>\n",
       "    </tr>\n",
       "    <tr>\n",
       "      <th>55186</th>\n",
       "      <td>0</td>\n",
       "      <td>i like the song below very much how</td>\n",
       "    </tr>\n",
       "  </tbody>\n",
       "</table>\n",
       "</div>"
      ],
      "text/plain": [
       "       label                                               sent\n",
       "55182      0                                   what a sad sight\n",
       "55183      0   i am currently listening to this talented lad...\n",
       "55184      0                                 i simply love jazz\n",
       "55185      0                                 do you like it too\n",
       "55186      0                i like the song below very much how"
      ]
     },
     "execution_count": 120,
     "metadata": {},
     "output_type": "execute_result"
    }
   ],
   "source": [
    "dlang8eng.tail()"
   ]
  },
  {
   "cell_type": "code",
   "execution_count": 121,
   "metadata": {
    "collapsed": false
   },
   "outputs": [],
   "source": [
    "dlang8eng=dlang8eng.dropna(subset=['sent'])\n",
    "dlang8kor=dlang8kor.dropna(subset=['sent'])"
   ]
  },
  {
   "cell_type": "code",
   "execution_count": 122,
   "metadata": {
    "collapsed": false
   },
   "outputs": [],
   "source": [
    "dlang8eng['sent'] = dlang8eng['sent'].apply(lambda x: word_tokenize(str(x)))"
   ]
  },
  {
   "cell_type": "code",
   "execution_count": 123,
   "metadata": {
    "collapsed": true
   },
   "outputs": [],
   "source": [
    "dlang8kor['sent'] = dlang8kor['sent'].apply(lambda x: word_tokenize(str(x)))"
   ]
  },
  {
   "cell_type": "code",
   "execution_count": 124,
   "metadata": {
    "collapsed": false
   },
   "outputs": [
    {
     "data": {
      "text/html": [
       "<div>\n",
       "<table border=\"1\" class=\"dataframe\">\n",
       "  <thead>\n",
       "    <tr style=\"text-align: right;\">\n",
       "      <th></th>\n",
       "      <th>label</th>\n",
       "      <th>sent</th>\n",
       "    </tr>\n",
       "  </thead>\n",
       "  <tbody>\n",
       "    <tr>\n",
       "      <th>55182</th>\n",
       "      <td>0</td>\n",
       "      <td>[what, a, sad, sight]</td>\n",
       "    </tr>\n",
       "    <tr>\n",
       "      <th>55183</th>\n",
       "      <td>0</td>\n",
       "      <td>[i, am, currently, listening, to, this, talent...</td>\n",
       "    </tr>\n",
       "    <tr>\n",
       "      <th>55184</th>\n",
       "      <td>0</td>\n",
       "      <td>[i, simply, love, jazz]</td>\n",
       "    </tr>\n",
       "    <tr>\n",
       "      <th>55185</th>\n",
       "      <td>0</td>\n",
       "      <td>[do, you, like, it, too]</td>\n",
       "    </tr>\n",
       "    <tr>\n",
       "      <th>55186</th>\n",
       "      <td>0</td>\n",
       "      <td>[i, like, the, song, below, very, much, how]</td>\n",
       "    </tr>\n",
       "  </tbody>\n",
       "</table>\n",
       "</div>"
      ],
      "text/plain": [
       "       label                                               sent\n",
       "55182      0                              [what, a, sad, sight]\n",
       "55183      0  [i, am, currently, listening, to, this, talent...\n",
       "55184      0                            [i, simply, love, jazz]\n",
       "55185      0                           [do, you, like, it, too]\n",
       "55186      0       [i, like, the, song, below, very, much, how]"
      ]
     },
     "execution_count": 124,
     "metadata": {},
     "output_type": "execute_result"
    }
   ],
   "source": [
    "dlang8eng.tail()"
   ]
  },
  {
   "cell_type": "code",
   "execution_count": 125,
   "metadata": {
    "collapsed": false
   },
   "outputs": [
    {
     "data": {
      "text/html": [
       "<div>\n",
       "<table border=\"1\" class=\"dataframe\">\n",
       "  <thead>\n",
       "    <tr style=\"text-align: right;\">\n",
       "      <th></th>\n",
       "      <th>label</th>\n",
       "      <th>sent</th>\n",
       "    </tr>\n",
       "  </thead>\n",
       "  <tbody>\n",
       "    <tr>\n",
       "      <th>0</th>\n",
       "      <td>1</td>\n",
       "      <td>[ese, day, i, am, so, tired, because, i, woke,...</td>\n",
       "    </tr>\n",
       "    <tr>\n",
       "      <th>1</th>\n",
       "      <td>1</td>\n",
       "      <td>[i, have, a, stomachach, since, 2, weeks, ago]</td>\n",
       "    </tr>\n",
       "    <tr>\n",
       "      <th>2</th>\n",
       "      <td>1</td>\n",
       "      <td>[i, thought, everything, is, gon, na, be, but,...</td>\n",
       "    </tr>\n",
       "    <tr>\n",
       "      <th>3</th>\n",
       "      <td>1</td>\n",
       "      <td>[doctor, said, you, have, a, convulsion]</td>\n",
       "    </tr>\n",
       "    <tr>\n",
       "      <th>4</th>\n",
       "      <td>1</td>\n",
       "      <td>[you, have, to, avoid, coffee, wheat, flour, a...</td>\n",
       "    </tr>\n",
       "  </tbody>\n",
       "</table>\n",
       "</div>"
      ],
      "text/plain": [
       "   label                                               sent\n",
       "0      1  [ese, day, i, am, so, tired, because, i, woke,...\n",
       "1      1     [i, have, a, stomachach, since, 2, weeks, ago]\n",
       "2      1  [i, thought, everything, is, gon, na, be, but,...\n",
       "3      1           [doctor, said, you, have, a, convulsion]\n",
       "4      1  [you, have, to, avoid, coffee, wheat, flour, a..."
      ]
     },
     "execution_count": 125,
     "metadata": {},
     "output_type": "execute_result"
    }
   ],
   "source": [
    "dlang8kor.head()"
   ]
  },
  {
   "cell_type": "code",
   "execution_count": null,
   "metadata": {
    "collapsed": true
   },
   "outputs": [],
   "source": [
    "deng_large.to_pickle(path+'eng_large_pd.pkl')\n",
    "dkor_large.to_pickle(path+'kor_large_pd.pkl')\n",
    "dnaver.to_pickle(path+'naver_pd.pkl')"
   ]
  },
  {
   "cell_type": "code",
   "execution_count": 126,
   "metadata": {
    "collapsed": true
   },
   "outputs": [],
   "source": [
    "dlang8eng.to_pickle(path+'lang8eng.pkl')\n",
    "dlang8kor.to_pickle(path+'lang8kor.pkl')"
   ]
  },
  {
   "cell_type": "code",
   "execution_count": 85,
   "metadata": {
    "collapsed": false
   },
   "outputs": [
    {
     "data": {
      "text/plain": [
       "0    [ese, day, i, am, so, tired, because, i, woke,...\n",
       "1       [i, have, a, stomachach, since, 2, weeks, ago]\n",
       "2    [i, thought, everything, is, gon, na, be, but,...\n",
       "3             [doctor, said, you, have, a, convulsion]\n",
       "4    [you, have, to, avoid, coffee, wheat, flour, a...\n",
       "Name: sent, dtype: object"
      ]
     },
     "execution_count": 85,
     "metadata": {},
     "output_type": "execute_result"
    }
   ],
   "source": [
    "dlang8kor.head()"
   ]
  },
  {
   "cell_type": "code",
   "execution_count": null,
   "metadata": {
    "collapsed": true
   },
   "outputs": [],
   "source": []
  }
 ],
 "metadata": {
  "anaconda-cloud": {},
  "kernelspec": {
   "display_name": "Python [conda env:insight]",
   "language": "python",
   "name": "conda-env-insight-py"
  },
  "language_info": {
   "codemirror_mode": {
    "name": "ipython",
    "version": 3
   },
   "file_extension": ".py",
   "mimetype": "text/x-python",
   "name": "python",
   "nbconvert_exporter": "python",
   "pygments_lexer": "ipython3",
   "version": "3.5.2"
  }
 },
 "nbformat": 4,
 "nbformat_minor": 1
}
