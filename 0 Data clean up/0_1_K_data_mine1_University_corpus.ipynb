{
 "cells": [
  {
   "cell_type": "code",
   "execution_count": 1,
   "metadata": {
    "collapsed": false
   },
   "outputs": [],
   "source": [
    "%matplotlib inline\n",
    "plt.style.use('ggplot')\n",
    "import re\n",
    "import pandas as pd\n",
    "import numpy as np\n",
    "from nltk.tokenize import sent_tokenize, word_tokenize\n",
    "#import os\n",
    "import re\n",
    "import pandas as pd\n",
    "import numpy as np\n",
    "import matplotlib.pyplot as plt\n",
    "import os\n",
    "import re\n",
    "from datetime import datetime\n",
    "from datetime import timedelta\n",
    "from sklearn.cluster import KMeans\n",
    "from sklearn.cluster import DBSCAN\n",
    "from nltk.tokenize import sent_tokenize, word_tokenize\n",
    "from spacy.en import English\n",
    "import pickle\n",
    "\n",
    "parser = English()\n",
    "# import modules & set up logging\n",
    "import gensim, logging\n",
    "logging.basicConfig(format='%(asctime)s : %(levelname)s : %(message)s', level=logging.INFO)\n",
    " \n",
    "\n",
    "from scipy.spatial.distance import pdist\n"
   ]
  },
  {
   "cell_type": "markdown",
   "metadata": {
    "collapsed": false
   },
   "source": [
    "## Import Gachon Corpus into pandas as df"
   ]
  },
  {
   "cell_type": "code",
   "execution_count": 3,
   "metadata": {
    "collapsed": false
   },
   "outputs": [],
   "source": [
    "df=pd.read_excel('data/Gachon Learner Corpus.xlsx', error_bad_lines=True)"
   ]
  },
  {
   "cell_type": "code",
   "execution_count": 4,
   "metadata": {
    "collapsed": true
   },
   "outputs": [
    {
     "data": {
      "text/html": [
       "<div>\n",
       "<table border=\"1\" class=\"dataframe\">\n",
       "  <thead>\n",
       "    <tr style=\"text-align: right;\">\n",
       "      <th></th>\n",
       "      <th>Timestamp</th>\n",
       "      <th>Please answer the following question. Write between 100 and 150 words. 다음 질문에 100~150단어 답해주십시오.</th>\n",
       "      <th>Student number:</th>\n",
       "      <th>Class number:</th>\n",
       "      <th>Assignment #</th>\n",
       "      <th>Waiver</th>\n",
       "      <th>Gender:</th>\n",
       "      <th>Number of years you have studied English: 영어를 몇년 동안 공부하였습니까?</th>\n",
       "      <th>TOEIC Score 토익 점수</th>\n",
       "      <th>TOEFL Score 토플 점수</th>\n",
       "      <th>...</th>\n",
       "      <th>What year are you in university?</th>\n",
       "      <th>What is your native (first) language?</th>\n",
       "      <th>Father's native (first) language?</th>\n",
       "      <th>Mother's native (first) language?</th>\n",
       "      <th>What languages do you and your family speak in your home?</th>\n",
       "      <th>What language was mostly used in your Elementary School?</th>\n",
       "      <th>What language was mostly used in your Middle School?</th>\n",
       "      <th>What language was mostly used in your High School?</th>\n",
       "      <th>How confident are you in your ability to write in English?</th>\n",
       "      <th>Why are you studying English?</th>\n",
       "    </tr>\n",
       "  </thead>\n",
       "  <tbody>\n",
       "    <tr>\n",
       "      <th>0</th>\n",
       "      <td>2014-03-07 20:13:28</td>\n",
       "      <td>In Korea when people small talk to each other ...</td>\n",
       "      <td>21011008</td>\n",
       "      <td>10075009 월/목 오후1:00</td>\n",
       "      <td>1</td>\n",
       "      <td>1</td>\n",
       "      <td>Male (Man) 남</td>\n",
       "      <td>12</td>\n",
       "      <td>780</td>\n",
       "      <td>x</td>\n",
       "      <td>...</td>\n",
       "      <td>Junior (3학년)</td>\n",
       "      <td>Korean</td>\n",
       "      <td>Korean</td>\n",
       "      <td>Korean</td>\n",
       "      <td>Korean</td>\n",
       "      <td>Korean</td>\n",
       "      <td>Korean</td>\n",
       "      <td>Korean</td>\n",
       "      <td>3</td>\n",
       "      <td>Fulfilling Academic Requirements 졸업조건을 충족시키기 위해</td>\n",
       "    </tr>\n",
       "    <tr>\n",
       "      <th>1</th>\n",
       "      <td>2014-03-17 05:32:16</td>\n",
       "      <td>I have ever been to austraila in a month. In t...</td>\n",
       "      <td>21011008</td>\n",
       "      <td>10075009 월/목 오후1:00</td>\n",
       "      <td>2</td>\n",
       "      <td>1</td>\n",
       "      <td>Male (Man) 남</td>\n",
       "      <td>12</td>\n",
       "      <td>780</td>\n",
       "      <td>x</td>\n",
       "      <td>...</td>\n",
       "      <td>Junior (3학년)</td>\n",
       "      <td>Korean</td>\n",
       "      <td>Korean</td>\n",
       "      <td>Korean</td>\n",
       "      <td>Korean</td>\n",
       "      <td>Korean</td>\n",
       "      <td>Korean</td>\n",
       "      <td>Korean</td>\n",
       "      <td>3</td>\n",
       "      <td>Fulfilling Academic Requirements 졸업조건을 충족시키기 위해</td>\n",
       "    </tr>\n",
       "    <tr>\n",
       "      <th>2</th>\n",
       "      <td>2014-03-26 21:48:43</td>\n",
       "      <td>The 'sin sae gye' is the best movie i've ever ...</td>\n",
       "      <td>21011008</td>\n",
       "      <td>10075009 월/목 오후1:00</td>\n",
       "      <td>3</td>\n",
       "      <td>1</td>\n",
       "      <td>Male (Man) 남</td>\n",
       "      <td>12</td>\n",
       "      <td>780</td>\n",
       "      <td>x</td>\n",
       "      <td>...</td>\n",
       "      <td>Junior (3학년)</td>\n",
       "      <td>Korean</td>\n",
       "      <td>Korean</td>\n",
       "      <td>Korean</td>\n",
       "      <td>Korean</td>\n",
       "      <td>Korean</td>\n",
       "      <td>Korean</td>\n",
       "      <td>Korean</td>\n",
       "      <td>3</td>\n",
       "      <td>Fulfilling Academic Requirements 졸업조건을 충족시키기 위해</td>\n",
       "    </tr>\n",
       "    <tr>\n",
       "      <th>3</th>\n",
       "      <td>2014-04-03 04:42:47</td>\n",
       "      <td>I think if children are allowed to watch viole...</td>\n",
       "      <td>21011008</td>\n",
       "      <td>10075009 월/목 오후1:00</td>\n",
       "      <td>4</td>\n",
       "      <td>1</td>\n",
       "      <td>Male (Man) 남</td>\n",
       "      <td>12</td>\n",
       "      <td>780</td>\n",
       "      <td>x</td>\n",
       "      <td>...</td>\n",
       "      <td>Junior (3학년)</td>\n",
       "      <td>Korean</td>\n",
       "      <td>Korean</td>\n",
       "      <td>Korean</td>\n",
       "      <td>Korean</td>\n",
       "      <td>Korean</td>\n",
       "      <td>Korean</td>\n",
       "      <td>Korean</td>\n",
       "      <td>3</td>\n",
       "      <td>Fulfilling Academic Requirements 졸업조건을 충족시키기 위해</td>\n",
       "    </tr>\n",
       "    <tr>\n",
       "      <th>4</th>\n",
       "      <td>2014-04-11 22:49:48</td>\n",
       "      <td>If i am the manager of a hotel, i will have wa...</td>\n",
       "      <td>21011008</td>\n",
       "      <td>10075009 월/목 오후1:00</td>\n",
       "      <td>5</td>\n",
       "      <td>1</td>\n",
       "      <td>Male (Man) 남</td>\n",
       "      <td>12</td>\n",
       "      <td>780</td>\n",
       "      <td>x</td>\n",
       "      <td>...</td>\n",
       "      <td>Junior (3학년)</td>\n",
       "      <td>Korean</td>\n",
       "      <td>Korean</td>\n",
       "      <td>Korean</td>\n",
       "      <td>Korean</td>\n",
       "      <td>Korean</td>\n",
       "      <td>Korean</td>\n",
       "      <td>Korean</td>\n",
       "      <td>3</td>\n",
       "      <td>Fulfilling Academic Requirements 졸업조건을 충족시키기 위해</td>\n",
       "    </tr>\n",
       "  </tbody>\n",
       "</table>\n",
       "<p>5 rows × 25 columns</p>\n",
       "</div>"
      ],
      "text/plain": [
       "             Timestamp  \\\n",
       "0  2014-03-07 20:13:28   \n",
       "1  2014-03-17 05:32:16   \n",
       "2  2014-03-26 21:48:43   \n",
       "3  2014-04-03 04:42:47   \n",
       "4  2014-04-11 22:49:48   \n",
       "\n",
       "  Please answer the following question. Write between 100 and 150 words. 다음 질문에 100~150단어 답해주십시오.  \\\n",
       "0  In Korea when people small talk to each other ...                                                \n",
       "1  I have ever been to austraila in a month. In t...                                                \n",
       "2  The 'sin sae gye' is the best movie i've ever ...                                                \n",
       "3  I think if children are allowed to watch viole...                                                \n",
       "4  If i am the manager of a hotel, i will have wa...                                                \n",
       "\n",
       "   Student number:        Class number:  Assignment #  Waiver       Gender:  \\\n",
       "0         21011008  10075009 월/목 오후1:00             1       1  Male (Man) 남   \n",
       "1         21011008  10075009 월/목 오후1:00             2       1  Male (Man) 남   \n",
       "2         21011008  10075009 월/목 오후1:00             3       1  Male (Man) 남   \n",
       "3         21011008  10075009 월/목 오후1:00             4       1  Male (Man) 남   \n",
       "4         21011008  10075009 월/목 오후1:00             5       1  Male (Man) 남   \n",
       "\n",
       "  Number of years you have studied English: 영어를 몇년 동안 공부하였습니까?  \\\n",
       "0                                                 12             \n",
       "1                                                 12             \n",
       "2                                                 12             \n",
       "3                                                 12             \n",
       "4                                                 12             \n",
       "\n",
       "  TOEIC Score 토익 점수 TOEFL Score 토플 점수  \\\n",
       "0               780                 x   \n",
       "1               780                 x   \n",
       "2               780                 x   \n",
       "3               780                 x   \n",
       "4               780                 x   \n",
       "\n",
       "                        ...                         \\\n",
       "0                       ...                          \n",
       "1                       ...                          \n",
       "2                       ...                          \n",
       "3                       ...                          \n",
       "4                       ...                          \n",
       "\n",
       "  What year are you in university? What is your native (first) language?  \\\n",
       "0                     Junior (3학년)                                Korean   \n",
       "1                     Junior (3학년)                                Korean   \n",
       "2                     Junior (3학년)                                Korean   \n",
       "3                     Junior (3학년)                                Korean   \n",
       "4                     Junior (3학년)                                Korean   \n",
       "\n",
       "  Father's native (first) language? Mother's native (first) language?  \\\n",
       "0                            Korean                            Korean   \n",
       "1                            Korean                            Korean   \n",
       "2                            Korean                            Korean   \n",
       "3                            Korean                            Korean   \n",
       "4                            Korean                            Korean   \n",
       "\n",
       "  What languages do you and your family speak in your home?  \\\n",
       "0                                             Korean          \n",
       "1                                             Korean          \n",
       "2                                             Korean          \n",
       "3                                             Korean          \n",
       "4                                             Korean          \n",
       "\n",
       "  What language was mostly used in your Elementary School?  \\\n",
       "0                                             Korean         \n",
       "1                                             Korean         \n",
       "2                                             Korean         \n",
       "3                                             Korean         \n",
       "4                                             Korean         \n",
       "\n",
       "  What language was mostly used in your Middle School?  \\\n",
       "0                                             Korean     \n",
       "1                                             Korean     \n",
       "2                                             Korean     \n",
       "3                                             Korean     \n",
       "4                                             Korean     \n",
       "\n",
       "  What language was mostly used in your High School?  \\\n",
       "0                                             Korean   \n",
       "1                                             Korean   \n",
       "2                                             Korean   \n",
       "3                                             Korean   \n",
       "4                                             Korean   \n",
       "\n",
       "  How confident are you in your ability to write in English?  \\\n",
       "0                                                  3           \n",
       "1                                                  3           \n",
       "2                                                  3           \n",
       "3                                                  3           \n",
       "4                                                  3           \n",
       "\n",
       "                     Why are you studying English?  \n",
       "0  Fulfilling Academic Requirements 졸업조건을 충족시키기 위해  \n",
       "1  Fulfilling Academic Requirements 졸업조건을 충족시키기 위해  \n",
       "2  Fulfilling Academic Requirements 졸업조건을 충족시키기 위해  \n",
       "3  Fulfilling Academic Requirements 졸업조건을 충족시키기 위해  \n",
       "4  Fulfilling Academic Requirements 졸업조건을 충족시키기 위해  \n",
       "\n",
       "[5 rows x 25 columns]"
      ]
     },
     "execution_count": 4,
     "metadata": {},
     "output_type": "execute_result"
    }
   ],
   "source": [
    "df.head()"
   ]
  },
  {
   "cell_type": "markdown",
   "metadata": {},
   "source": [
    "Limit the data set down to pure sentences and tokenize for new pandas file\n",
    "\n",
    "- Currently in paragraphs\n",
    "- break it down to to sentences and tokenize"
   ]
  },
  {
   "cell_type": "code",
   "execution_count": 5,
   "metadata": {
    "collapsed": true
   },
   "outputs": [],
   "source": [
    "df1 = df.ix[:,1]\n",
    "\n",
    "df1=df1.drop_duplicates()"
   ]
  },
  {
   "cell_type": "code",
   "execution_count": 10,
   "metadata": {
    "collapsed": true
   },
   "outputs": [],
   "source": [
    "text_list=df1.tolist()"
   ]
  },
  {
   "cell_type": "code",
   "execution_count": 11,
   "metadata": {
    "collapsed": false
   },
   "outputs": [
    {
     "name": "stdout",
     "output_type": "stream",
     "text": [
      "25067\n"
     ]
    }
   ],
   "source": [
    "print (len(text_list))"
   ]
  },
  {
   "cell_type": "markdown",
   "metadata": {},
   "source": [
    "### Tokening down to sentence level"
   ]
  },
  {
   "cell_type": "code",
   "execution_count": 12,
   "metadata": {
    "collapsed": false
   },
   "outputs": [
    {
     "name": "stdout",
     "output_type": "stream",
     "text": [
      "nan\n"
     ]
    }
   ],
   "source": [
    "sent_list=[]\n",
    "for item in text_list:\n",
    "    try:\n",
    "        sent_tokenize_list = sent_tokenize(item)\n",
    "        sent_list.append(sent_tokenize_list)   \n",
    "    except:\n",
    "        print (item)\n",
    "    "
   ]
  },
  {
   "cell_type": "code",
   "execution_count": 17,
   "metadata": {
    "collapsed": false
   },
   "outputs": [],
   "source": [
    "flattened_sent = [val for sublist in sent_list for val in sublist]"
   ]
  },
  {
   "cell_type": "code",
   "execution_count": 20,
   "metadata": {
    "collapsed": false,
    "scrolled": true
   },
   "outputs": [
    {
     "data": {
      "text/plain": [
       "'There is no only one answer.'"
      ]
     },
     "execution_count": 20,
     "metadata": {},
     "output_type": "execute_result"
    }
   ],
   "source": [
    "flattened_sent[-1]"
   ]
  },
  {
   "cell_type": "code",
   "execution_count": 32,
   "metadata": {
    "collapsed": false
   },
   "outputs": [],
   "source": [
    "df2 = pd.DataFrame({'sent': flattened_sent, 'label': 1})"
   ]
  },
  {
   "cell_type": "code",
   "execution_count": 33,
   "metadata": {
    "collapsed": false
   },
   "outputs": [
    {
     "data": {
      "text/html": [
       "<div>\n",
       "<table border=\"1\" class=\"dataframe\">\n",
       "  <thead>\n",
       "    <tr style=\"text-align: right;\">\n",
       "      <th></th>\n",
       "      <th>label</th>\n",
       "      <th>sent</th>\n",
       "    </tr>\n",
       "  </thead>\n",
       "  <tbody>\n",
       "    <tr>\n",
       "      <th>238574</th>\n",
       "      <td>1</td>\n",
       "      <td>But the object, money in this case, can be cha...</td>\n",
       "    </tr>\n",
       "    <tr>\n",
       "      <th>238575</th>\n",
       "      <td>1</td>\n",
       "      <td>It can be a life or love or authority or honor...</td>\n",
       "    </tr>\n",
       "    <tr>\n",
       "      <th>238576</th>\n",
       "      <td>1</td>\n",
       "      <td>Moreover, there is difference between thinking...</td>\n",
       "    </tr>\n",
       "    <tr>\n",
       "      <th>238577</th>\n",
       "      <td>1</td>\n",
       "      <td>If a situation changes, I can change my thinki...</td>\n",
       "    </tr>\n",
       "    <tr>\n",
       "      <th>238578</th>\n",
       "      <td>1</td>\n",
       "      <td>There is no only one answer.</td>\n",
       "    </tr>\n",
       "  </tbody>\n",
       "</table>\n",
       "</div>"
      ],
      "text/plain": [
       "        label                                               sent\n",
       "238574      1  But the object, money in this case, can be cha...\n",
       "238575      1  It can be a life or love or authority or honor...\n",
       "238576      1  Moreover, there is difference between thinking...\n",
       "238577      1  If a situation changes, I can change my thinki...\n",
       "238578      1                       There is no only one answer."
      ]
     },
     "execution_count": 33,
     "metadata": {},
     "output_type": "execute_result"
    }
   ],
   "source": [
    "df2.tail()"
   ]
  },
  {
   "cell_type": "code",
   "execution_count": 34,
   "metadata": {
    "collapsed": false
   },
   "outputs": [],
   "source": [
    "def remove_none_english(item):\n",
    "    clean_sent=[]\n",
    "    for word in item:\n",
    "        if word.isalnum()==True:\n",
    "            clean_sent.append(word)\n",
    "    return clean_sent        "
   ]
  },
  {
   "cell_type": "code",
   "execution_count": 35,
   "metadata": {
    "collapsed": true
   },
   "outputs": [],
   "source": [
    "def lower_words(item):\n",
    "    low_words=[]\n",
    "    for word in item:\n",
    "        low_words.append(word.lower())\n",
    "    return low_words    "
   ]
  },
  {
   "cell_type": "code",
   "execution_count": null,
   "metadata": {
    "collapsed": true
   },
   "outputs": [],
   "source": [
    "df2['sent']=df2['sent'].apply(lambda x: word_tokenize(x))\n",
    "\n",
    "df2['sent']=df2['sent'].apply(lambda x: remove_none_english(x))\n",
    "\n",
    "df2['sent']=df2['sent'].apply(lambda x: lower_words(x))\n",
    "\n",
    "df2['length']=df2['sent'].apply(lambda x: len(x))\n",
    "\n",
    "df2=df2[df2['length']>1]"
   ]
  },
  {
   "cell_type": "code",
   "execution_count": 54,
   "metadata": {
    "collapsed": true
   },
   "outputs": [],
   "source": [
    "df2['sentence']=df2['sent'].apply(lambda x: \" \".join(x))"
   ]
  },
  {
   "cell_type": "code",
   "execution_count": 55,
   "metadata": {
    "collapsed": false
   },
   "outputs": [
    {
     "data": {
      "text/html": [
       "<div>\n",
       "<table border=\"1\" class=\"dataframe\">\n",
       "  <thead>\n",
       "    <tr style=\"text-align: right;\">\n",
       "      <th></th>\n",
       "      <th>label</th>\n",
       "      <th>sent</th>\n",
       "      <th>length</th>\n",
       "      <th>sentence</th>\n",
       "    </tr>\n",
       "  </thead>\n",
       "  <tbody>\n",
       "    <tr>\n",
       "      <th>0</th>\n",
       "      <td>1</td>\n",
       "      <td>[in, korea, when, people, small, talk, to, eac...</td>\n",
       "      <td>17</td>\n",
       "      <td>in korea when people small talk to each other ...</td>\n",
       "    </tr>\n",
       "    <tr>\n",
       "      <th>1</th>\n",
       "      <td>1</td>\n",
       "      <td>[because, they, think, he, or, she, wants, to,...</td>\n",
       "      <td>12</td>\n",
       "      <td>because they think he or she wants to classify...</td>\n",
       "    </tr>\n",
       "    <tr>\n",
       "      <th>2</th>\n",
       "      <td>1</td>\n",
       "      <td>[that, must, be, rude, people, think]</td>\n",
       "      <td>6</td>\n",
       "      <td>that must be rude people think</td>\n",
       "    </tr>\n",
       "    <tr>\n",
       "      <th>3</th>\n",
       "      <td>1</td>\n",
       "      <td>[also, people, do, not, quest, weight, especia...</td>\n",
       "      <td>12</td>\n",
       "      <td>also people do not quest weight especially in ...</td>\n",
       "    </tr>\n",
       "    <tr>\n",
       "      <th>4</th>\n",
       "      <td>1</td>\n",
       "      <td>[korea, women, want, to, hide, her, secret, an...</td>\n",
       "      <td>15</td>\n",
       "      <td>korea women want to hide her secret and man ha...</td>\n",
       "    </tr>\n",
       "  </tbody>\n",
       "</table>\n",
       "</div>"
      ],
      "text/plain": [
       "   label                                               sent  length  \\\n",
       "0      1  [in, korea, when, people, small, talk, to, eac...      17   \n",
       "1      1  [because, they, think, he, or, she, wants, to,...      12   \n",
       "2      1              [that, must, be, rude, people, think]       6   \n",
       "3      1  [also, people, do, not, quest, weight, especia...      12   \n",
       "4      1  [korea, women, want, to, hide, her, secret, an...      15   \n",
       "\n",
       "                                            sentence  \n",
       "0  in korea when people small talk to each other ...  \n",
       "1  because they think he or she wants to classify...  \n",
       "2                     that must be rude people think  \n",
       "3  also people do not quest weight especially in ...  \n",
       "4  korea women want to hide her secret and man ha...  "
      ]
     },
     "execution_count": 55,
     "metadata": {},
     "output_type": "execute_result"
    }
   ],
   "source": [
    "df2.head()"
   ]
  },
  {
   "cell_type": "code",
   "execution_count": 56,
   "metadata": {
    "collapsed": true
   },
   "outputs": [],
   "source": [
    "df2.to_pickle('data/univ_corpus.pkl')"
   ]
  },
  {
   "cell_type": "code",
   "execution_count": 53,
   "metadata": {
    "collapsed": true
   },
   "outputs": [],
   "source": [
    "with open('wordvec/univ_kor.pkl', 'wb') as f:\n",
    "    pickle.dump(lower_word_list, f)"
   ]
  },
  {
   "cell_type": "code",
   "execution_count": null,
   "metadata": {
    "collapsed": true
   },
   "outputs": [],
   "source": []
  }
 ],
 "metadata": {
  "anaconda-cloud": {},
  "kernelspec": {
   "display_name": "Python [conda env:insight]",
   "language": "python",
   "name": "conda-env-insight-py"
  },
  "language_info": {
   "codemirror_mode": {
    "name": "ipython",
    "version": 3
   },
   "file_extension": ".py",
   "mimetype": "text/x-python",
   "name": "python",
   "nbconvert_exporter": "python",
   "pygments_lexer": "ipython3",
   "version": "3.5.2"
  }
 },
 "nbformat": 4,
 "nbformat_minor": 1
}
