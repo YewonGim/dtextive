{
 "cells": [
  {
   "cell_type": "code",
   "execution_count": 1,
   "metadata": {
    "collapsed": true
   },
   "outputs": [],
   "source": [
    "import os\n",
    "import pandas as pd\n",
    "import numpy\n",
    "import matplotlib.pyplot as plt\n",
    "%matplotlib inline\n",
    "import pickle"
   ]
  },
  {
   "cell_type": "code",
   "execution_count": 7,
   "metadata": {
    "collapsed": true
   },
   "outputs": [],
   "source": [
    "target=os.listdir('Data/')"
   ]
  },
  {
   "cell_type": "code",
   "execution_count": 8,
   "metadata": {
    "collapsed": false
   },
   "outputs": [
    {
     "name": "stdout",
     "output_type": "stream",
     "text": [
      "['model_50_0212', 'dtotfinal_0210.pkl']\n"
     ]
    }
   ],
   "source": [
    "print (target)"
   ]
  },
  {
   "cell_type": "code",
   "execution_count": 9,
   "metadata": {
    "collapsed": false
   },
   "outputs": [],
   "source": [
    "dtot=pd.read_pickle('Data/dtotfinal_0210.pkl')"
   ]
  },
  {
   "cell_type": "code",
   "execution_count": 10,
   "metadata": {
    "collapsed": true
   },
   "outputs": [],
   "source": [
    "import gensim, logging\n",
    "logging.basicConfig(format='%(asctime)s : %(levelname)s : %(message)s', level=logging.INFO)"
   ]
  },
  {
   "cell_type": "code",
   "execution_count": 11,
   "metadata": {
    "collapsed": true
   },
   "outputs": [],
   "source": [
    "train_words=dtot['sent'].tolist()"
   ]
  },
  {
   "cell_type": "code",
   "execution_count": 26,
   "metadata": {
    "collapsed": false,
    "scrolled": true
   },
   "outputs": [
    {
     "name": "stderr",
     "output_type": "stream",
     "text": [
      "2017-02-13 00:58:44,838 : WARNING : consider setting layer size to a multiple of 4 for greater performance\n",
      "2017-02-13 00:58:44,844 : INFO : collecting all words and their counts\n",
      "2017-02-13 00:58:44,848 : INFO : PROGRESS: at sentence #0, processed 0 words, keeping 0 word types\n",
      "2017-02-13 00:58:44,900 : INFO : PROGRESS: at sentence #10000, processed 146629 words, keeping 14920 word types\n",
      "2017-02-13 00:58:44,955 : INFO : PROGRESS: at sentence #20000, processed 295196 words, keeping 22021 word types\n",
      "2017-02-13 00:58:45,018 : INFO : PROGRESS: at sentence #30000, processed 442097 words, keeping 27244 word types\n",
      "2017-02-13 00:58:45,077 : INFO : PROGRESS: at sentence #40000, processed 592926 words, keeping 31677 word types\n",
      "2017-02-13 00:58:45,132 : INFO : PROGRESS: at sentence #50000, processed 742744 words, keeping 35582 word types\n",
      "2017-02-13 00:58:45,185 : INFO : PROGRESS: at sentence #60000, processed 892942 words, keeping 39103 word types\n",
      "2017-02-13 00:58:45,241 : INFO : PROGRESS: at sentence #70000, processed 1042516 words, keeping 42274 word types\n",
      "2017-02-13 00:58:45,294 : INFO : PROGRESS: at sentence #80000, processed 1190559 words, keeping 45099 word types\n",
      "2017-02-13 00:58:45,346 : INFO : PROGRESS: at sentence #90000, processed 1339212 words, keeping 47886 word types\n",
      "2017-02-13 00:58:45,396 : INFO : PROGRESS: at sentence #100000, processed 1488984 words, keeping 50543 word types\n",
      "2017-02-13 00:58:45,449 : INFO : PROGRESS: at sentence #110000, processed 1641578 words, keeping 53117 word types\n",
      "2017-02-13 00:58:45,502 : INFO : PROGRESS: at sentence #120000, processed 1790960 words, keeping 55403 word types\n",
      "2017-02-13 00:58:45,554 : INFO : PROGRESS: at sentence #130000, processed 1939949 words, keeping 57614 word types\n",
      "2017-02-13 00:58:45,606 : INFO : PROGRESS: at sentence #140000, processed 2088652 words, keeping 59668 word types\n",
      "2017-02-13 00:58:45,660 : INFO : PROGRESS: at sentence #150000, processed 2238327 words, keeping 61739 word types\n",
      "2017-02-13 00:58:45,713 : INFO : PROGRESS: at sentence #160000, processed 2388103 words, keeping 63749 word types\n",
      "2017-02-13 00:58:45,766 : INFO : PROGRESS: at sentence #170000, processed 2539121 words, keeping 65696 word types\n",
      "2017-02-13 00:58:45,819 : INFO : PROGRESS: at sentence #180000, processed 2689491 words, keeping 67724 word types\n",
      "2017-02-13 00:58:45,871 : INFO : PROGRESS: at sentence #190000, processed 2838643 words, keeping 69487 word types\n",
      "2017-02-13 00:58:45,925 : INFO : PROGRESS: at sentence #200000, processed 2990027 words, keeping 71229 word types\n",
      "2017-02-13 00:58:45,979 : INFO : PROGRESS: at sentence #210000, processed 3142155 words, keeping 73018 word types\n",
      "2017-02-13 00:58:46,036 : INFO : PROGRESS: at sentence #220000, processed 3293448 words, keeping 74720 word types\n",
      "2017-02-13 00:58:46,090 : INFO : PROGRESS: at sentence #230000, processed 3442362 words, keeping 76390 word types\n",
      "2017-02-13 00:58:46,150 : INFO : PROGRESS: at sentence #240000, processed 3593099 words, keeping 78019 word types\n",
      "2017-02-13 00:58:46,202 : INFO : PROGRESS: at sentence #250000, processed 3742188 words, keeping 79607 word types\n",
      "2017-02-13 00:58:46,254 : INFO : PROGRESS: at sentence #260000, processed 3893569 words, keeping 81095 word types\n",
      "2017-02-13 00:58:46,305 : INFO : PROGRESS: at sentence #270000, processed 4046009 words, keeping 82640 word types\n",
      "2017-02-13 00:58:46,358 : INFO : PROGRESS: at sentence #280000, processed 4197791 words, keeping 84149 word types\n",
      "2017-02-13 00:58:46,412 : INFO : PROGRESS: at sentence #290000, processed 4352659 words, keeping 85571 word types\n",
      "2017-02-13 00:58:46,467 : INFO : PROGRESS: at sentence #300000, processed 4503938 words, keeping 86996 word types\n",
      "2017-02-13 00:58:46,526 : INFO : PROGRESS: at sentence #310000, processed 4653585 words, keeping 88419 word types\n",
      "2017-02-13 00:58:46,593 : INFO : PROGRESS: at sentence #320000, processed 4805242 words, keeping 89817 word types\n",
      "2017-02-13 00:58:46,667 : INFO : PROGRESS: at sentence #330000, processed 4943483 words, keeping 92318 word types\n",
      "2017-02-13 00:58:46,734 : INFO : PROGRESS: at sentence #340000, processed 5074569 words, keeping 94830 word types\n",
      "2017-02-13 00:58:46,789 : INFO : PROGRESS: at sentence #350000, processed 5192367 words, keeping 96260 word types\n",
      "2017-02-13 00:58:46,838 : INFO : PROGRESS: at sentence #360000, processed 5319518 words, keeping 98172 word types\n",
      "2017-02-13 00:58:46,882 : INFO : PROGRESS: at sentence #370000, processed 5438489 words, keeping 99979 word types\n",
      "2017-02-13 00:58:46,940 : INFO : PROGRESS: at sentence #380000, processed 5566526 words, keeping 102842 word types\n",
      "2017-02-13 00:58:46,998 : INFO : PROGRESS: at sentence #390000, processed 5683755 words, keeping 104545 word types\n",
      "2017-02-13 00:58:47,043 : INFO : PROGRESS: at sentence #400000, processed 5793781 words, keeping 106051 word types\n",
      "2017-02-13 00:58:47,087 : INFO : PROGRESS: at sentence #410000, processed 5916822 words, keeping 107445 word types\n",
      "2017-02-13 00:58:47,131 : INFO : PROGRESS: at sentence #420000, processed 6036967 words, keeping 109006 word types\n",
      "2017-02-13 00:58:47,175 : INFO : PROGRESS: at sentence #430000, processed 6155679 words, keeping 110320 word types\n",
      "2017-02-13 00:58:47,222 : INFO : PROGRESS: at sentence #440000, processed 6278781 words, keeping 111546 word types\n",
      "2017-02-13 00:58:47,268 : INFO : PROGRESS: at sentence #450000, processed 6398438 words, keeping 112864 word types\n",
      "2017-02-13 00:58:47,312 : INFO : PROGRESS: at sentence #460000, processed 6504294 words, keeping 113521 word types\n",
      "2017-02-13 00:58:47,364 : INFO : PROGRESS: at sentence #470000, processed 6611503 words, keeping 114143 word types\n",
      "2017-02-13 00:58:47,414 : INFO : PROGRESS: at sentence #480000, processed 6717790 words, keeping 114762 word types\n",
      "2017-02-13 00:58:47,465 : INFO : PROGRESS: at sentence #490000, processed 6823258 words, keeping 115332 word types\n",
      "2017-02-13 00:58:47,515 : INFO : PROGRESS: at sentence #500000, processed 6929211 words, keeping 115887 word types\n",
      "2017-02-13 00:58:47,564 : INFO : PROGRESS: at sentence #510000, processed 7034397 words, keeping 116424 word types\n",
      "2017-02-13 00:58:47,614 : INFO : PROGRESS: at sentence #520000, processed 7140103 words, keeping 116947 word types\n",
      "2017-02-13 00:58:47,674 : INFO : PROGRESS: at sentence #530000, processed 7247832 words, keeping 117440 word types\n",
      "2017-02-13 00:58:47,730 : INFO : PROGRESS: at sentence #540000, processed 7354116 words, keeping 117956 word types\n",
      "2017-02-13 00:58:47,777 : INFO : PROGRESS: at sentence #550000, processed 7460099 words, keeping 118394 word types\n",
      "2017-02-13 00:58:47,835 : INFO : PROGRESS: at sentence #560000, processed 7565464 words, keeping 118820 word types\n",
      "2017-02-13 00:58:47,883 : INFO : PROGRESS: at sentence #570000, processed 7672004 words, keeping 119264 word types\n",
      "2017-02-13 00:58:47,923 : INFO : PROGRESS: at sentence #580000, processed 7777354 words, keeping 119664 word types\n",
      "2017-02-13 00:58:47,977 : INFO : PROGRESS: at sentence #590000, processed 7883773 words, keeping 120109 word types\n",
      "2017-02-13 00:58:48,031 : INFO : PROGRESS: at sentence #600000, processed 7989585 words, keeping 120545 word types\n",
      "2017-02-13 00:58:48,071 : INFO : PROGRESS: at sentence #610000, processed 8095553 words, keeping 120877 word types\n",
      "2017-02-13 00:58:48,112 : INFO : PROGRESS: at sentence #620000, processed 8201574 words, keeping 121284 word types\n",
      "2017-02-13 00:58:48,154 : INFO : PROGRESS: at sentence #630000, processed 8308403 words, keeping 121705 word types\n",
      "2017-02-13 00:58:48,196 : INFO : PROGRESS: at sentence #640000, processed 8414528 words, keeping 122088 word types\n",
      "2017-02-13 00:58:48,236 : INFO : PROGRESS: at sentence #650000, processed 8520045 words, keeping 122489 word types\n",
      "2017-02-13 00:58:48,278 : INFO : PROGRESS: at sentence #660000, processed 8626477 words, keeping 122878 word types\n",
      "2017-02-13 00:58:48,284 : INFO : collected 122880 word types from a corpus of 8628353 raw words and 660184 sentences\n",
      "2017-02-13 00:58:48,285 : INFO : Loading a fresh vocabulary\n",
      "2017-02-13 00:58:48,487 : INFO : min_count=5 retains 31564 unique words (25% of original 122880, drops 91316)\n",
      "2017-02-13 00:58:48,488 : INFO : min_count=5 leaves 8491694 word corpus (98% of original 8628353, drops 136659)\n",
      "2017-02-13 00:58:48,622 : INFO : deleting the raw counts dictionary of 122880 items\n",
      "2017-02-13 00:58:48,628 : INFO : sample=0.001 downsamples 54 most-common words\n",
      "2017-02-13 00:58:48,629 : INFO : downsampling leaves estimated 6321799 word corpus (74.4% of prior 8491694)\n",
      "2017-02-13 00:58:48,630 : INFO : estimated required memory for 31564 words and 50 dimensions: 28407600 bytes\n",
      "2017-02-13 00:58:48,789 : INFO : resetting layer weights\n",
      "2017-02-13 00:58:49,305 : INFO : training model with 3 workers on 31564 vocabulary and 50 features, using sg=0 hs=0 sample=0.001 negative=5 window=5\n",
      "2017-02-13 00:58:49,306 : INFO : expecting 660184 sentences, matching count from corpus used for vocabulary survey\n",
      "2017-02-13 00:58:50,320 : INFO : PROGRESS: at 1.81% examples, 647225 words/s, in_qsize 5, out_qsize 0\n",
      "2017-02-13 00:58:51,330 : INFO : PROGRESS: at 3.69% examples, 660803 words/s, in_qsize 5, out_qsize 0\n",
      "2017-02-13 00:58:52,332 : INFO : PROGRESS: at 5.40% examples, 647534 words/s, in_qsize 5, out_qsize 0\n",
      "2017-02-13 00:58:53,335 : INFO : PROGRESS: at 6.81% examples, 613325 words/s, in_qsize 5, out_qsize 1\n",
      "2017-02-13 00:58:54,343 : INFO : PROGRESS: at 8.42% examples, 606748 words/s, in_qsize 5, out_qsize 0\n",
      "2017-02-13 00:58:55,349 : INFO : PROGRESS: at 10.38% examples, 618955 words/s, in_qsize 6, out_qsize 0\n",
      "2017-02-13 00:58:56,350 : INFO : PROGRESS: at 12.82% examples, 630084 words/s, in_qsize 6, out_qsize 0\n",
      "2017-02-13 00:58:57,354 : INFO : PROGRESS: at 15.41% examples, 638064 words/s, in_qsize 5, out_qsize 0\n",
      "2017-02-13 00:58:58,354 : INFO : PROGRESS: at 18.07% examples, 643756 words/s, in_qsize 5, out_qsize 0\n",
      "2017-02-13 00:58:59,365 : INFO : PROGRESS: at 20.54% examples, 648147 words/s, in_qsize 5, out_qsize 0\n",
      "2017-02-13 00:59:00,371 : INFO : PROGRESS: at 22.44% examples, 651316 words/s, in_qsize 5, out_qsize 0\n",
      "2017-02-13 00:59:01,386 : INFO : PROGRESS: at 24.32% examples, 652976 words/s, in_qsize 5, out_qsize 0\n",
      "2017-02-13 00:59:02,390 : INFO : PROGRESS: at 26.23% examples, 656029 words/s, in_qsize 6, out_qsize 1\n",
      "2017-02-13 00:59:03,402 : INFO : PROGRESS: at 28.14% examples, 658210 words/s, in_qsize 6, out_qsize 1\n",
      "2017-02-13 00:59:04,408 : INFO : PROGRESS: at 30.10% examples, 660665 words/s, in_qsize 4, out_qsize 1\n",
      "2017-02-13 00:59:05,421 : INFO : PROGRESS: at 32.58% examples, 663241 words/s, in_qsize 5, out_qsize 0\n",
      "2017-02-13 00:59:06,422 : INFO : PROGRESS: at 35.13% examples, 665058 words/s, in_qsize 5, out_qsize 0\n",
      "2017-02-13 00:59:07,433 : INFO : PROGRESS: at 37.84% examples, 666810 words/s, in_qsize 5, out_qsize 0\n",
      "2017-02-13 00:59:08,451 : INFO : PROGRESS: at 40.38% examples, 667680 words/s, in_qsize 6, out_qsize 0\n",
      "2017-02-13 00:59:09,452 : INFO : PROGRESS: at 42.30% examples, 668976 words/s, in_qsize 5, out_qsize 0\n",
      "2017-02-13 00:59:10,464 : INFO : PROGRESS: at 44.24% examples, 670201 words/s, in_qsize 5, out_qsize 0\n",
      "2017-02-13 00:59:11,475 : INFO : PROGRESS: at 46.10% examples, 670005 words/s, in_qsize 5, out_qsize 0\n",
      "2017-02-13 00:59:12,476 : INFO : PROGRESS: at 47.99% examples, 670740 words/s, in_qsize 5, out_qsize 0\n",
      "2017-02-13 00:59:13,488 : INFO : PROGRESS: at 49.93% examples, 671588 words/s, in_qsize 6, out_qsize 1\n",
      "2017-02-13 00:59:14,494 : INFO : PROGRESS: at 52.32% examples, 672441 words/s, in_qsize 5, out_qsize 0\n",
      "2017-02-13 00:59:15,507 : INFO : PROGRESS: at 54.81% examples, 672567 words/s, in_qsize 6, out_qsize 1\n",
      "2017-02-13 00:59:16,509 : INFO : PROGRESS: at 57.53% examples, 673689 words/s, in_qsize 5, out_qsize 0\n",
      "2017-02-13 00:59:17,511 : INFO : PROGRESS: at 60.17% examples, 674712 words/s, in_qsize 5, out_qsize 0\n",
      "2017-02-13 00:59:18,511 : INFO : PROGRESS: at 62.08% examples, 675144 words/s, in_qsize 5, out_qsize 0\n",
      "2017-02-13 00:59:19,520 : INFO : PROGRESS: at 63.98% examples, 675415 words/s, in_qsize 6, out_qsize 0\n",
      "2017-02-13 00:59:20,533 : INFO : PROGRESS: at 65.90% examples, 675758 words/s, in_qsize 5, out_qsize 0\n",
      "2017-02-13 00:59:21,543 : INFO : PROGRESS: at 67.75% examples, 675444 words/s, in_qsize 6, out_qsize 1\n",
      "2017-02-13 00:59:22,557 : INFO : PROGRESS: at 69.63% examples, 675720 words/s, in_qsize 5, out_qsize 0\n",
      "2017-02-13 00:59:23,557 : INFO : PROGRESS: at 71.98% examples, 676309 words/s, in_qsize 6, out_qsize 1\n",
      "2017-02-13 00:59:24,564 : INFO : PROGRESS: at 74.53% examples, 676977 words/s, in_qsize 5, out_qsize 0\n",
      "2017-02-13 00:59:25,573 : INFO : PROGRESS: at 77.21% examples, 677356 words/s, in_qsize 5, out_qsize 0\n",
      "2017-02-13 00:59:26,581 : INFO : PROGRESS: at 79.92% examples, 677933 words/s, in_qsize 5, out_qsize 0\n",
      "2017-02-13 00:59:27,589 : INFO : PROGRESS: at 81.88% examples, 678242 words/s, in_qsize 5, out_qsize 0\n",
      "2017-02-13 00:59:28,605 : INFO : PROGRESS: at 83.76% examples, 678028 words/s, in_qsize 5, out_qsize 1\n",
      "2017-02-13 00:59:29,612 : INFO : PROGRESS: at 85.60% examples, 677632 words/s, in_qsize 6, out_qsize 0\n",
      "2017-02-13 00:59:30,616 : INFO : PROGRESS: at 87.51% examples, 677966 words/s, in_qsize 5, out_qsize 0\n",
      "2017-02-13 00:59:31,629 : INFO : PROGRESS: at 89.39% examples, 678152 words/s, in_qsize 5, out_qsize 0\n",
      "2017-02-13 00:59:32,633 : INFO : PROGRESS: at 91.67% examples, 678563 words/s, in_qsize 5, out_qsize 0\n",
      "2017-02-13 00:59:33,643 : INFO : PROGRESS: at 94.19% examples, 678924 words/s, in_qsize 6, out_qsize 0\n",
      "2017-02-13 00:59:34,652 : INFO : PROGRESS: at 96.81% examples, 678863 words/s, in_qsize 5, out_qsize 1\n",
      "2017-02-13 00:59:35,654 : INFO : PROGRESS: at 99.18% examples, 677459 words/s, in_qsize 5, out_qsize 0\n",
      "2017-02-13 00:59:36,028 : INFO : worker thread finished; awaiting finish of 2 more threads\n",
      "2017-02-13 00:59:36,036 : INFO : worker thread finished; awaiting finish of 1 more threads\n",
      "2017-02-13 00:59:36,046 : INFO : worker thread finished; awaiting finish of 0 more threads\n",
      "2017-02-13 00:59:36,048 : INFO : training on 43141765 raw words (31606005 effective words) took 46.7s, 676327 effective words/s\n"
     ]
    }
   ],
   "source": [
    "model_tot_50_0212 = gensim.models.Word2Vec(train_words,size=50, min_count=5)"
   ]
  },
  {
   "cell_type": "code",
   "execution_count": 13,
   "metadata": {
    "collapsed": false,
    "scrolled": true
   },
   "outputs": [
    {
     "name": "stderr",
     "output_type": "stream",
     "text": [
      "2017-02-13 00:42:40,060 : INFO : saving Word2Vec object under Data/model_50_0212, separately None\n",
      "2017-02-13 00:42:40,061 : INFO : not storing attribute syn0norm\n",
      "2017-02-13 00:42:40,063 : INFO : not storing attribute cum_table\n",
      "2017-02-13 00:42:40,402 : INFO : saved Data/model_50_0212\n"
     ]
    }
   ],
   "source": [
    "model_tot_50_0212.save('Data/model_50_0212')"
   ]
  },
  {
   "cell_type": "code",
   "execution_count": 30,
   "metadata": {
    "collapsed": false
   },
   "outputs": [],
   "source": [
    "dtot_shuffle = dtot.sample(frac=1).reset_index(drop=True)"
   ]
  },
  {
   "cell_type": "code",
   "execution_count": 31,
   "metadata": {
    "collapsed": true
   },
   "outputs": [],
   "source": [
    "dtrain=dtot_shuffle[:int(len(dtot)*0.6)]\n",
    "dcv=dtot_shuffle[int(len(dtot)*0.6):int(len(dtot)*0.8)]\n",
    "dtest=dtot_shuffle[int(len(dtot)*0.8):]"
   ]
  },
  {
   "cell_type": "code",
   "execution_count": 32,
   "metadata": {
    "collapsed": false
   },
   "outputs": [
    {
     "data": {
      "text/html": [
       "<div>\n",
       "<table border=\"1\" class=\"dataframe\">\n",
       "  <thead>\n",
       "    <tr style=\"text-align: right;\">\n",
       "      <th></th>\n",
       "      <th>label</th>\n",
       "      <th>length</th>\n",
       "      <th>sent</th>\n",
       "      <th>sentence</th>\n",
       "    </tr>\n",
       "  </thead>\n",
       "  <tbody>\n",
       "    <tr>\n",
       "      <th>0</th>\n",
       "      <td>0</td>\n",
       "      <td>19</td>\n",
       "      <td>[the, point, of, my, classes, is, to, think, c...</td>\n",
       "      <td>the point of my classes is to think critically...</td>\n",
       "    </tr>\n",
       "    <tr>\n",
       "      <th>1</th>\n",
       "      <td>1</td>\n",
       "      <td>6</td>\n",
       "      <td>[and, preparatory, measure, has, been, developed]</td>\n",
       "      <td>and preparatory measure has been developed</td>\n",
       "    </tr>\n",
       "    <tr>\n",
       "      <th>2</th>\n",
       "      <td>0</td>\n",
       "      <td>14</td>\n",
       "      <td>[so, we, just, have, this, random, sitting, ar...</td>\n",
       "      <td>so we just have this random sitting around unt...</td>\n",
       "    </tr>\n",
       "    <tr>\n",
       "      <th>3</th>\n",
       "      <td>0</td>\n",
       "      <td>10</td>\n",
       "      <td>[or, are, you, a, salt, in, the, type, of, guy]</td>\n",
       "      <td>or are you a salt in the type of guy</td>\n",
       "    </tr>\n",
       "    <tr>\n",
       "      <th>4</th>\n",
       "      <td>0</td>\n",
       "      <td>6</td>\n",
       "      <td>[hard, working, never, complains, gentle, and]</td>\n",
       "      <td>hard working never complains gentle and</td>\n",
       "    </tr>\n",
       "  </tbody>\n",
       "</table>\n",
       "</div>"
      ],
      "text/plain": [
       "   label  length                                               sent  \\\n",
       "0      0      19  [the, point, of, my, classes, is, to, think, c...   \n",
       "1      1       6  [and, preparatory, measure, has, been, developed]   \n",
       "2      0      14  [so, we, just, have, this, random, sitting, ar...   \n",
       "3      0      10    [or, are, you, a, salt, in, the, type, of, guy]   \n",
       "4      0       6     [hard, working, never, complains, gentle, and]   \n",
       "\n",
       "                                            sentence  \n",
       "0  the point of my classes is to think critically...  \n",
       "1         and preparatory measure has been developed  \n",
       "2  so we just have this random sitting around unt...  \n",
       "3               or are you a salt in the type of guy  \n",
       "4            hard working never complains gentle and  "
      ]
     },
     "execution_count": 32,
     "metadata": {},
     "output_type": "execute_result"
    }
   ],
   "source": [
    "dtrain.head()"
   ]
  },
  {
   "cell_type": "code",
   "execution_count": 35,
   "metadata": {
    "collapsed": false
   },
   "outputs": [
    {
     "data": {
      "text/html": [
       "<div>\n",
       "<table border=\"1\" class=\"dataframe\">\n",
       "  <thead>\n",
       "    <tr style=\"text-align: right;\">\n",
       "      <th></th>\n",
       "      <th>label</th>\n",
       "      <th>length</th>\n",
       "    </tr>\n",
       "  </thead>\n",
       "  <tbody>\n",
       "    <tr>\n",
       "      <th>count</th>\n",
       "      <td>132037.000000</td>\n",
       "      <td>132037.000000</td>\n",
       "    </tr>\n",
       "    <tr>\n",
       "      <th>mean</th>\n",
       "      <td>0.451631</td>\n",
       "      <td>13.030976</td>\n",
       "    </tr>\n",
       "    <tr>\n",
       "      <th>std</th>\n",
       "      <td>0.497657</td>\n",
       "      <td>11.147756</td>\n",
       "    </tr>\n",
       "    <tr>\n",
       "      <th>min</th>\n",
       "      <td>0.000000</td>\n",
       "      <td>2.000000</td>\n",
       "    </tr>\n",
       "    <tr>\n",
       "      <th>25%</th>\n",
       "      <td>0.000000</td>\n",
       "      <td>7.000000</td>\n",
       "    </tr>\n",
       "    <tr>\n",
       "      <th>50%</th>\n",
       "      <td>0.000000</td>\n",
       "      <td>10.000000</td>\n",
       "    </tr>\n",
       "    <tr>\n",
       "      <th>75%</th>\n",
       "      <td>1.000000</td>\n",
       "      <td>16.000000</td>\n",
       "    </tr>\n",
       "    <tr>\n",
       "      <th>max</th>\n",
       "      <td>1.000000</td>\n",
       "      <td>1041.000000</td>\n",
       "    </tr>\n",
       "  </tbody>\n",
       "</table>\n",
       "</div>"
      ],
      "text/plain": [
       "               label         length\n",
       "count  132037.000000  132037.000000\n",
       "mean        0.451631      13.030976\n",
       "std         0.497657      11.147756\n",
       "min         0.000000       2.000000\n",
       "25%         0.000000       7.000000\n",
       "50%         0.000000      10.000000\n",
       "75%         1.000000      16.000000\n",
       "max         1.000000    1041.000000"
      ]
     },
     "execution_count": 35,
     "metadata": {},
     "output_type": "execute_result"
    }
   ],
   "source": [
    "dtest.describe()"
   ]
  },
  {
   "cell_type": "code",
   "execution_count": 36,
   "metadata": {
    "collapsed": true
   },
   "outputs": [],
   "source": [
    "from sklearn.ensemble import RandomForestClassifier\n",
    "import numpy as np"
   ]
  },
  {
   "cell_type": "code",
   "execution_count": 37,
   "metadata": {
    "collapsed": true
   },
   "outputs": [],
   "source": [
    "def word_vec(x,dim,model):\n",
    "    sentv = np.zeros(dim)\n",
    "    for word in x:\n",
    "        try:\n",
    "            #x = model[word]\n",
    "            #print (word)\n",
    "            x = model[str(word)]\n",
    "            sentv=sentv+x\n",
    "        except:\n",
    "            sentv=sentv\n",
    "    #print (sentv)\n",
    "    return sentv"
   ]
  },
  {
   "cell_type": "code",
   "execution_count": 38,
   "metadata": {
    "collapsed": true
   },
   "outputs": [],
   "source": [
    "dtrain_vec_100=dtrain['sent'].apply(lambda x: word_vec(x,50,model_tot_50_0212))\n",
    "dtest_vec_100=dtest['sent'].apply(lambda x: word_vec(x,50,model_tot_50_0212))\n",
    "dcv_vec_100=dcv['sent'].apply(lambda x: word_vec(x,50,model_tot_50_0212))"
   ]
  },
  {
   "cell_type": "code",
   "execution_count": 39,
   "metadata": {
    "collapsed": false
   },
   "outputs": [
    {
     "data": {
      "text/plain": [
       "396110"
      ]
     },
     "execution_count": 39,
     "metadata": {},
     "output_type": "execute_result"
    }
   ],
   "source": [
    "len(dtrain_vec_100)"
   ]
  },
  {
   "cell_type": "code",
   "execution_count": 40,
   "metadata": {
    "collapsed": true
   },
   "outputs": [],
   "source": [
    "dtrain_vec_label_100=dtrain['label']\n",
    "dtest_vec_label_100=dtest['label']\n",
    "dcv_vec_label_100=dcv['label']"
   ]
  },
  {
   "cell_type": "code",
   "execution_count": 41,
   "metadata": {
    "collapsed": true
   },
   "outputs": [],
   "source": [
    "import time"
   ]
  },
  {
   "cell_type": "code",
   "execution_count": 42,
   "metadata": {
    "collapsed": false,
    "scrolled": true
   },
   "outputs": [
    {
     "name": "stdout",
     "output_type": "stream",
     "text": [
      "0.791384233207\n",
      "My program took 656.0602910518646 to run\n"
     ]
    }
   ],
   "source": [
    "start_time = time.time()\n",
    "\n",
    "X=dtrain_vec_100.tolist()\n",
    "Y=dtrain_vec_label_100.tolist()\n",
    "\n",
    "clf = RandomForestClassifier(n_estimators=100)\n",
    "clf = clf.fit(X,Y)\n",
    "\n",
    "X_cv=dcv_vec_100.tolist()\n",
    "Y_cv=dcv_vec_label_100.tolist()\n",
    "\n",
    "print(clf.score(X_cv,Y_cv))\n",
    "\n",
    "print (\"My program took\", time.time() - start_time, \"to run\")"
   ]
  },
  {
   "cell_type": "code",
   "execution_count": 43,
   "metadata": {
    "collapsed": false
   },
   "outputs": [],
   "source": [
    "X_test=dtest_vec_100.tolist()\n",
    "Y_test=dtest_vec_label_100.tolist()\n"
   ]
  },
  {
   "cell_type": "code",
   "execution_count": 44,
   "metadata": {
    "collapsed": true
   },
   "outputs": [],
   "source": [
    "Y_predict=clf.predict(X_test)"
   ]
  },
  {
   "cell_type": "code",
   "execution_count": 46,
   "metadata": {
    "collapsed": false
   },
   "outputs": [
    {
     "data": {
      "text/plain": [
       "0.79167960495921597"
      ]
     },
     "execution_count": 46,
     "metadata": {},
     "output_type": "execute_result"
    }
   ],
   "source": [
    "clf.score(X_test, Y_test)"
   ]
  },
  {
   "cell_type": "code",
   "execution_count": 47,
   "metadata": {
    "collapsed": false
   },
   "outputs": [
    {
     "name": "stderr",
     "output_type": "stream",
     "text": [
      "2017-02-13 01:17:17,839 : WARNING : direct access to vocab will not be supported in future gensim releases, please use model.wv.vocab\n"
     ]
    }
   ],
   "source": [
    "words_words=model_tot_50_0212.vocab.keys()"
   ]
  },
  {
   "cell_type": "code",
   "execution_count": 49,
   "metadata": {
    "collapsed": false
   },
   "outputs": [],
   "source": [
    "def word_vec_ave(x,dim,model):\n",
    "    sentv = np.zeros(dim)\n",
    "    for word in x:\n",
    "        try:\n",
    "            #x = model[word]\n",
    "            #print (word)\n",
    "            x = model[str(word)]\n",
    "            sentv=sentv+x\n",
    "        except:\n",
    "            sentv=sentv\n",
    "    #print (sentv)\n",
    "    return sentv/(len(x))"
   ]
  },
  {
   "cell_type": "code",
   "execution_count": 50,
   "metadata": {
    "collapsed": true
   },
   "outputs": [],
   "source": [
    "ave_vec=word_vec_ave(words_words,50,model_tot_50_0212)"
   ]
  },
  {
   "cell_type": "code",
   "execution_count": 85,
   "metadata": {
    "collapsed": true
   },
   "outputs": [],
   "source": [
    "dmand=pd.read_pickle('Data/lang8_mand.pkl')"
   ]
  },
  {
   "cell_type": "code",
   "execution_count": 51,
   "metadata": {
    "collapsed": false
   },
   "outputs": [
    {
     "name": "stdout",
     "output_type": "stream",
     "text": [
      "[  96.85992281  -99.75607778 -117.97352446  123.29439821   61.10215344\n",
      "  -29.00167678  -98.61129616   89.16662693   28.13043478  -84.41756513\n",
      "  159.11709379   82.02832075   28.56488078  -13.58201186  -59.90972852\n",
      "   40.43198984  -57.33341647  -42.49150144  105.35375477   37.79322527\n",
      "  -22.59015201   30.81222401  -26.2649948  -163.10244764  -52.26478841\n",
      "   -7.60705265  -33.34683517  114.33590071   -3.12990453   35.06778198\n",
      "   -2.79191525  -32.56854672  -64.53034544   36.2377602    31.78207053\n",
      "  -10.93731898  136.80722362   18.59297184  -30.09312797 -182.6905897\n",
      "  -10.25146598   -3.63532746  -63.69787782  -43.6860756    65.12638776\n",
      "  -76.63962933   -9.1620932   108.94445041 -123.36353959  -45.54197531]\n"
     ]
    }
   ],
   "source": [
    "print (ave_vec)"
   ]
  },
  {
   "cell_type": "markdown",
   "metadata": {},
   "source": [
    "Everything but top implementation"
   ]
  },
  {
   "cell_type": "code",
   "execution_count": 52,
   "metadata": {
    "collapsed": true
   },
   "outputs": [],
   "source": [
    "def scale_vec(x,dim,model):\n",
    "    sentv = np.zeros(dim)\n",
    "    for word in x:\n",
    "        try:\n",
    "            #x = model[word]\n",
    "            #print (word)\n",
    "            x = model[str(word)]-ave_vec\n",
    "            sentv=sentv+x\n",
    "        except:\n",
    "            sentv=sentv\n",
    "    #print (sentv)\n",
    "    return sentv"
   ]
  },
  {
   "cell_type": "code",
   "execution_count": 53,
   "metadata": {
    "collapsed": true
   },
   "outputs": [],
   "source": [
    "dtrain_vec_scale=dtrain['sent'].apply(lambda x: scale_vec(x,50,model_tot_50_0212))\n",
    "dtest_vec_scale=dtest['sent'].apply(lambda x: scale_vec(x,50,model_tot_50_0212))\n",
    "dcv_vec_scale=dcv['sent'].apply(lambda x: scale_vec(x,50,model_tot_50_0212))"
   ]
  },
  {
   "cell_type": "code",
   "execution_count": 54,
   "metadata": {
    "collapsed": true
   },
   "outputs": [],
   "source": [
    "dtrain_vec_label_100=dtrain['label']\n",
    "dtest_vec_label_100=dtest['label']\n",
    "dcv_vec_label_100=dcv['label']"
   ]
  },
  {
   "cell_type": "code",
   "execution_count": 55,
   "metadata": {
    "collapsed": true
   },
   "outputs": [
    {
     "ename": "NameError",
     "evalue": "name 'clfPscale' is not defined",
     "output_type": "error",
     "traceback": [
      "\u001b[0;31m---------------------------------------------------------------------------\u001b[0m",
      "\u001b[0;31mNameError\u001b[0m                                 Traceback (most recent call last)",
      "\u001b[0;32m<ipython-input-55-c7151a98784e>\u001b[0m in \u001b[0;36m<module>\u001b[0;34m()\u001b[0m\n\u001b[1;32m     10\u001b[0m \u001b[0mY_cv\u001b[0m\u001b[0;34m=\u001b[0m\u001b[0mdcv_vec_label_100\u001b[0m\u001b[0;34m.\u001b[0m\u001b[0mtolist\u001b[0m\u001b[0;34m(\u001b[0m\u001b[0;34m)\u001b[0m\u001b[0;34m\u001b[0m\u001b[0m\n\u001b[1;32m     11\u001b[0m \u001b[0;34m\u001b[0m\u001b[0m\n\u001b[0;32m---> 12\u001b[0;31m \u001b[0mprint\u001b[0m\u001b[0;34m(\u001b[0m\u001b[0mclfPscale\u001b[0m\u001b[0;34m.\u001b[0m\u001b[0mscore\u001b[0m\u001b[0;34m(\u001b[0m\u001b[0mX_cv\u001b[0m\u001b[0;34m,\u001b[0m\u001b[0mY_cv\u001b[0m\u001b[0;34m)\u001b[0m\u001b[0;34m)\u001b[0m\u001b[0;34m\u001b[0m\u001b[0m\n\u001b[0m\u001b[1;32m     13\u001b[0m \u001b[0;34m\u001b[0m\u001b[0m\n\u001b[1;32m     14\u001b[0m \u001b[0mprint\u001b[0m \u001b[0;34m(\u001b[0m\u001b[0;34m\"My program took\"\u001b[0m\u001b[0;34m,\u001b[0m \u001b[0mtime\u001b[0m\u001b[0;34m.\u001b[0m\u001b[0mtime\u001b[0m\u001b[0;34m(\u001b[0m\u001b[0;34m)\u001b[0m \u001b[0;34m-\u001b[0m \u001b[0mstart_time\u001b[0m\u001b[0;34m,\u001b[0m \u001b[0;34m\"to run\"\u001b[0m\u001b[0;34m)\u001b[0m\u001b[0;34m\u001b[0m\u001b[0m\n",
      "\u001b[0;31mNameError\u001b[0m: name 'clfPscale' is not defined"
     ]
    }
   ],
   "source": [
    "start_time = time.time()\n",
    "\n",
    "X=dtrain_vec_scale.tolist()\n",
    "Y=dtrain_vec_label_100.tolist()\n",
    "\n",
    "clf_scale = RandomForestClassifier(n_estimators=100)\n",
    "clf_scale = clf_scale.fit(X,Y)\n",
    "\n",
    "X_cv=dcv_vec_scale.tolist()\n",
    "Y_cv=dcv_vec_label_100.tolist()\n",
    "\n",
    "print(clf_scale.score(X_cv,Y_cv))\n",
    "\n",
    "print (\"My program took\", time.time() - start_time, \"to run\")"
   ]
  },
  {
   "cell_type": "code",
   "execution_count": 56,
   "metadata": {
    "collapsed": false
   },
   "outputs": [
    {
     "name": "stdout",
     "output_type": "stream",
     "text": [
      "0.797140195551\n"
     ]
    }
   ],
   "source": [
    "print(clf_scale.score(X_cv,Y_cv))\n"
   ]
  },
  {
   "cell_type": "code",
   "execution_count": 57,
   "metadata": {
    "collapsed": true
   },
   "outputs": [],
   "source": [
    "from sklearn.metrics import confusion_matrix"
   ]
  },
  {
   "cell_type": "code",
   "execution_count": 86,
   "metadata": {
    "collapsed": true
   },
   "outputs": [],
   "source": [
    "dmand_vec=dmand['sent'].apply(lambda x: scale_vec(x,50,model_tot_50_0212))\n"
   ]
  },
  {
   "cell_type": "code",
   "execution_count": 87,
   "metadata": {
    "collapsed": true
   },
   "outputs": [],
   "source": [
    "X_mand=dmand_vec.tolist()"
   ]
  },
  {
   "cell_type": "code",
   "execution_count": 88,
   "metadata": {
    "collapsed": true
   },
   "outputs": [],
   "source": [
    "Y_mand_pred=clf_scale.predict(X_mand)"
   ]
  },
  {
   "cell_type": "code",
   "execution_count": 65,
   "metadata": {
    "collapsed": false
   },
   "outputs": [],
   "source": [
    "confusion=confusion_matrix(Y_cv,Y_pred)"
   ]
  },
  {
   "cell_type": "code",
   "execution_count": 63,
   "metadata": {
    "collapsed": true
   },
   "outputs": [],
   "source": [
    "confusion=confusion/len(X_cv)"
   ]
  },
  {
   "cell_type": "code",
   "execution_count": 66,
   "metadata": {
    "collapsed": false
   },
   "outputs": [
    {
     "name": "stdout",
     "output_type": "stream",
     "text": [
      "[[61509 10861]\n",
      " [15924 43743]]\n"
     ]
    }
   ],
   "source": [
    "print(confusion)"
   ]
  },
  {
   "cell_type": "code",
   "execution_count": 89,
   "metadata": {
    "collapsed": false
   },
   "outputs": [
    {
     "data": {
      "text/plain": [
       "10255"
      ]
     },
     "execution_count": 89,
     "metadata": {},
     "output_type": "execute_result"
    }
   ],
   "source": [
    "sum(Y_mand_pred)"
   ]
  },
  {
   "cell_type": "code",
   "execution_count": 90,
   "metadata": {
    "collapsed": false
   },
   "outputs": [
    {
     "data": {
      "text/plain": [
       "22159"
      ]
     },
     "execution_count": 90,
     "metadata": {},
     "output_type": "execute_result"
    }
   ],
   "source": [
    "len(Y_mand_pred)"
   ]
  },
  {
   "cell_type": "code",
   "execution_count": 91,
   "metadata": {
    "collapsed": false
   },
   "outputs": [
    {
     "data": {
      "text/plain": [
       "0.46279164222212194"
      ]
     },
     "execution_count": 91,
     "metadata": {},
     "output_type": "execute_result"
    }
   ],
   "source": [
    "10255/22159"
   ]
  },
  {
   "cell_type": "code",
   "execution_count": 68,
   "metadata": {
    "collapsed": false
   },
   "outputs": [
    {
     "data": {
      "text/plain": [
       "72370"
      ]
     },
     "execution_count": 68,
     "metadata": {},
     "output_type": "execute_result"
    }
   ],
   "source": [
    "len(Y_cv)-sum(Y_cv)"
   ]
  },
  {
   "cell_type": "markdown",
   "metadata": {},
   "source": [
    "Accuracy (TP+TN)/(P+N) = 80%"
   ]
  },
  {
   "cell_type": "markdown",
   "metadata": {},
   "source": [
    "Recall (TP/P)=73%"
   ]
  },
  {
   "cell_type": "markdown",
   "metadata": {},
   "source": [
    "Specificity=85%"
   ]
  },
  {
   "cell_type": "code",
   "execution_count": 72,
   "metadata": {
    "collapsed": false
   },
   "outputs": [
    {
     "data": {
      "text/plain": [
       "0.8499240016581456"
      ]
     },
     "execution_count": 72,
     "metadata": {},
     "output_type": "execute_result"
    }
   ],
   "source": [
    "61509/(10861+61509)"
   ]
  },
  {
   "cell_type": "markdown",
   "metadata": {},
   "source": [
    "PPV(precision for english speaker)=85%"
   ]
  },
  {
   "cell_type": "markdown",
   "metadata": {
    "collapsed": true
   },
   "source": [
    "PPV(precision for korean speaker)=73%"
   ]
  },
  {
   "cell_type": "code",
   "execution_count": 75,
   "metadata": {
    "collapsed": true
   },
   "outputs": [],
   "source": [
    "import seaborn"
   ]
  },
  {
   "cell_type": "code",
   "execution_count": 74,
   "metadata": {
    "collapsed": false
   },
   "outputs": [
    {
     "data": {
      "text/plain": [
       "0.73311880939212626"
      ]
     },
     "execution_count": 74,
     "metadata": {},
     "output_type": "execute_result"
    }
   ],
   "source": [
    "confusion[1][1]/(confusion[1][0]+confusion[1][1])"
   ]
  },
  {
   "cell_type": "code",
   "execution_count": 69,
   "metadata": {
    "collapsed": false
   },
   "outputs": [
    {
     "data": {
      "text/plain": [
       "0.8499240016581456"
      ]
     },
     "execution_count": 69,
     "metadata": {},
     "output_type": "execute_result"
    }
   ],
   "source": [
    "61509/72370"
   ]
  },
  {
   "cell_type": "code",
   "execution_count": 84,
   "metadata": {
    "collapsed": false
   },
   "outputs": [
    {
     "data": {
      "text/plain": [
       "array([[61509, 10861],\n",
       "       [15924, 43743]])"
      ]
     },
     "execution_count": 84,
     "metadata": {},
     "output_type": "execute_result"
    }
   ],
   "source": [
    "confusion"
   ]
  },
  {
   "cell_type": "code",
   "execution_count": 83,
   "metadata": {
    "collapsed": false
   },
   "outputs": [
    {
     "ename": "IndexError",
     "evalue": "invalid index to scalar variable.",
     "output_type": "error",
     "traceback": [
      "\u001b[0;31m---------------------------------------------------------------------------\u001b[0m",
      "\u001b[0;31mIndexError\u001b[0m                                Traceback (most recent call last)",
      "\u001b[0;32m<ipython-input-83-a2f8a5974ed6>\u001b[0m in \u001b[0;36m<module>\u001b[0;34m()\u001b[0m\n\u001b[1;32m      1\u001b[0m \u001b[0mfix\u001b[0m\u001b[0;34m,\u001b[0m \u001b[0max\u001b[0m \u001b[0;34m=\u001b[0m \u001b[0mplt\u001b[0m\u001b[0;34m.\u001b[0m\u001b[0msubplots\u001b[0m\u001b[0;34m(\u001b[0m\u001b[0mfigsize\u001b[0m\u001b[0;34m=\u001b[0m\u001b[0;34m(\u001b[0m\u001b[0;36m16\u001b[0m\u001b[0;34m,\u001b[0m \u001b[0;36m12\u001b[0m\u001b[0;34m)\u001b[0m\u001b[0;34m)\u001b[0m\u001b[0;34m\u001b[0m\u001b[0m\n\u001b[1;32m      2\u001b[0m \u001b[0mplt\u001b[0m\u001b[0;34m.\u001b[0m\u001b[0msuptitle\u001b[0m\u001b[0;34m(\u001b[0m\u001b[0;34m'Confusion Matrix of Various Classifiers'\u001b[0m\u001b[0;34m)\u001b[0m\u001b[0;34m\u001b[0m\u001b[0m\n\u001b[0;32m----> 3\u001b[0;31m \u001b[0mmatrix\u001b[0m \u001b[0;34m=\u001b[0m \u001b[0mvalues\u001b[0m\u001b[0;34m[\u001b[0m\u001b[0;34m'matrix'\u001b[0m\u001b[0;34m]\u001b[0m\u001b[0;34m\u001b[0m\u001b[0m\n\u001b[0m\u001b[1;32m      4\u001b[0m \u001b[0mtitle\u001b[0m \u001b[0;34m=\u001b[0m \u001b[0mvalues\u001b[0m\u001b[0;34m[\u001b[0m\u001b[0;34m'title'\u001b[0m\u001b[0;34m]\u001b[0m\u001b[0;34m\u001b[0m\u001b[0m\n\u001b[1;32m      5\u001b[0m \u001b[0mplt\u001b[0m\u001b[0;34m.\u001b[0m\u001b[0msubplot\u001b[0m\u001b[0;34m(\u001b[0m\u001b[0;36m3\u001b[0m\u001b[0;34m,\u001b[0m \u001b[0;36m3\u001b[0m\u001b[0;34m)\u001b[0m \u001b[0;31m# starts from 1    plt.title(title);    sns.heatmap(matrix, annot=True,  fmt='');\u001b[0m\u001b[0;34m\u001b[0m\u001b[0m\n",
      "\u001b[0;31mIndexError\u001b[0m: invalid index to scalar variable."
     ]
    },
    {
     "data": {
      "image/png": "[encoded data removed]",
      "text/plain": [
       "<matplotlib.figure.Figure at 0x7f1c60086a20>"
      ]
     },
     "metadata": {},
     "output_type": "display_data"
    }
   ],
   "source": [
    "fix, ax = plt.subplots(figsize=(16, 12)) \n",
    "plt.suptitle('Confusion Matrix of Various Classifiers') \n",
    "matrix = values['matrix']    \n",
    "title = values['title']    \n",
    "plt.subplot(3, 3) # starts from 1    plt.title(title);    sns.heatmap(matrix, annot=True,  fmt='');"
   ]
  },
  {
   "cell_type": "code",
   "execution_count": null,
   "metadata": {
    "collapsed": true
   },
   "outputs": [],
   "source": []
  }
 ],
 "metadata": {
  "anaconda-cloud": {},
  "kernelspec": {
   "display_name": "Python [conda env:insight]",
   "language": "python",
   "name": "conda-env-insight-py"
  },
  "language_info": {
   "codemirror_mode": {
    "name": "ipython",
    "version": 3
   },
   "file_extension": ".py",
   "mimetype": "text/x-python",
   "name": "python",
   "nbconvert_exporter": "python",
   "pygments_lexer": "ipython3",
   "version": "3.5.2"
  }
 },
 "nbformat": 4,
 "nbformat_minor": 1
}
